{
  "cells": [
    {
      "cell_type": "markdown",
      "metadata": {
        "id": "6sZavduwW_fS"
      },
      "source": [
        "\n",
        "# Bibliotécas"
      ]
    },
    {
      "cell_type": "code",
      "execution_count": null,
      "metadata": {
        "id": "BbvChIcU9ooj",
        "colab": {
          "base_uri": "https://localhost:8080/"
        },
        "outputId": "96be9ee0-8021-4973-97b8-c4a08d87afb3"
      },
      "outputs": [
        {
          "output_type": "stream",
          "name": "stdout",
          "text": [
            "Collecting keras-tuner\n",
            "  Downloading keras_tuner-1.4.7-py3-none-any.whl (129 kB)\n",
            "\u001b[2K     \u001b[90m━━━━━━━━━━━━━━━━━━━━━━━━━━━━━━━━━━━━━━━━\u001b[0m \u001b[32m129.1/129.1 kB\u001b[0m \u001b[31m1.3 MB/s\u001b[0m eta \u001b[36m0:00:00\u001b[0m\n",
            "\u001b[?25hRequirement already satisfied: keras in /usr/local/lib/python3.10/dist-packages (from keras-tuner) (2.15.0)\n",
            "Requirement already satisfied: packaging in /usr/local/lib/python3.10/dist-packages (from keras-tuner) (24.0)\n",
            "Requirement already satisfied: requests in /usr/local/lib/python3.10/dist-packages (from keras-tuner) (2.31.0)\n",
            "Collecting kt-legacy (from keras-tuner)\n",
            "  Downloading kt_legacy-1.0.5-py3-none-any.whl (9.6 kB)\n",
            "Requirement already satisfied: charset-normalizer<4,>=2 in /usr/local/lib/python3.10/dist-packages (from requests->keras-tuner) (3.3.2)\n",
            "Requirement already satisfied: idna<4,>=2.5 in /usr/local/lib/python3.10/dist-packages (from requests->keras-tuner) (3.7)\n",
            "Requirement already satisfied: urllib3<3,>=1.21.1 in /usr/local/lib/python3.10/dist-packages (from requests->keras-tuner) (2.0.7)\n",
            "Requirement already satisfied: certifi>=2017.4.17 in /usr/local/lib/python3.10/dist-packages (from requests->keras-tuner) (2024.2.2)\n",
            "Installing collected packages: kt-legacy, keras-tuner\n",
            "Successfully installed keras-tuner-1.4.7 kt-legacy-1.0.5\n"
          ]
        }
      ],
      "source": [
        "#!pip install tensorflow --upgrade\n",
        "import numpy as np\n",
        "import matplotlib.pyplot as plt\n",
        "import seaborn as sns\n",
        "\n",
        "from joblib import dump, load\n",
        "import pandas as pd\n",
        "from sklearn.preprocessing import StandardScaler, MinMaxScaler\n",
        "from sklearn.feature_selection import SelectKBest, mutual_info_regression, r_regression\n",
        "from sklearn.impute import KNNImputer\n",
        "from sklearn.model_selection import train_test_split\n",
        "\n",
        "!pip install keras-tuner --upgrade\n",
        "import keras_tuner as kt\n",
        "import tensorflow as tf\n",
        "from google.colab import output\n",
        "import time\n",
        "\n",
        "from keras.models import Sequential\n",
        "from keras.layers import Dense\n",
        "from keras.layers import LSTM, GRU, SimpleRNN, Reshape, InputLayer\n",
        "from keras.layers import Dropout\n",
        "from keras.utils import plot_model\n",
        "from keras.metrics import RootMeanSquaredError\n",
        "from keras.utils import set_random_seed\n",
        "from keras.callbacks import EarlyStopping\n",
        "\n",
        "import gc\n",
        "\n",
        "seed = 42\n",
        "tf.random.set_seed(seed)\n",
        "np.random.seed(seed)\n",
        "set_random_seed(seed)\n",
        "global train_tf, test_tf"
      ]
    },
    {
      "cell_type": "code",
      "execution_count": null,
      "metadata": {
        "id": "EISHbh5YqxZG"
      },
      "outputs": [],
      "source": [
        "# Reset Keras Session\n",
        "def reset_keras():\n",
        "    sess = tf.compat.v1.keras.backend.get_session()\n",
        "    tf.compat.v1.keras.backend.clear_session()\n",
        "    sess.close()\n",
        "    sess = tf.compat.v1.keras.backend.get_session()\n",
        "\n",
        "    try:\n",
        "        del m # this is from global space - change this as you need\n",
        "    except:\n",
        "        pass\n",
        "\n",
        "    print(gc.collect()) # if it's done something you should see a number being outputted\n",
        "\n",
        "    # use the same config as you used to create the session\n",
        "    config = tf.compat.v1.ConfigProto()\n",
        "    config.gpu_options.per_process_gpu_memory_fraction = 1\n",
        "    config.gpu_options.visible_device_list = \"0\"\n",
        "    tf.compat.v1.keras.backend.set_session(tf.compat.v1.Session(config=config))"
      ]
    },
    {
      "cell_type": "code",
      "execution_count": null,
      "metadata": {
        "colab": {
          "base_uri": "https://localhost:8080/"
        },
        "id": "M6CNjfvKmxn2",
        "outputId": "27028fee-8e3c-4832-8d1c-df9670ecabaa"
      },
      "outputs": [
        {
          "output_type": "stream",
          "name": "stdout",
          "text": [
            "[name: \"/device:CPU:0\"\n",
            "device_type: \"CPU\"\n",
            "memory_limit: 268435456\n",
            "locality {\n",
            "}\n",
            "incarnation: 545148526931886819\n",
            "xla_global_id: -1\n",
            ", name: \"/device:GPU:0\"\n",
            "device_type: \"GPU\"\n",
            "memory_limit: 14626652160\n",
            "locality {\n",
            "  bus_id: 1\n",
            "  links {\n",
            "  }\n",
            "}\n",
            "incarnation: 10677719489930545987\n",
            "physical_device_desc: \"device: 0, name: Tesla T4, pci bus id: 0000:00:04.0, compute capability: 7.5\"\n",
            "xla_global_id: 416903419\n",
            "]\n",
            "Default GPU Device: /device:GPU:0\n"
          ]
        }
      ],
      "source": [
        "from tensorflow.python.client import device_lib\n",
        "print(device_lib.list_local_devices())\n",
        "print('Default GPU Device: {}'.format(tf.test.gpu_device_name()))"
      ]
    },
    {
      "cell_type": "markdown",
      "metadata": {
        "id": "meV0EFmUXd-s"
      },
      "source": [
        "#Carregar dados"
      ]
    },
    {
      "cell_type": "code",
      "execution_count": null,
      "metadata": {
        "colab": {
          "base_uri": "https://localhost:8080/"
        },
        "id": "IEj6jN5LoqjV",
        "outputId": "ede2af45-d6c1-4fd7-d9d7-d546fbd4911f"
      },
      "outputs": [
        {
          "output_type": "stream",
          "name": "stdout",
          "text": [
            "Encoding of /content/dados (4).csv: ascii\n"
          ]
        }
      ],
      "source": [
        "import chardet\n",
        "import pandas as pd\n",
        "import glob\n",
        "all_files = glob.glob(\"/content/*.csv\")\n",
        "\n",
        "for filename in all_files:\n",
        "  with open(filename, 'rb') as f:\n",
        "    encoding = chardet.detect(f.read())['encoding']\n",
        "    print(f\"Encoding of {filename}: {encoding}\")"
      ]
    },
    {
      "cell_type": "code",
      "execution_count": null,
      "metadata": {
        "id": "AOvuP9kwpIoh"
      },
      "outputs": [],
      "source": [
        "\n",
        "li = []\n",
        "\n",
        "for filename in all_files:\n",
        "    df = pd.read_csv(filename, index_col=None, header=0, encoding = encoding,\n",
        "                     decimal=\",\", delimiter=\";\")\n",
        "    li.append(df)\n",
        "\n",
        "df = pd.concat(li, axis=0, ignore_index=True).astype('str')\n",
        "df.drop(columns=[col for col in df.columns if 'Unnamed' in col], inplace=True)\n",
        "df = df.drop_duplicates()\n",
        "df.replace('0.0', np.nan, inplace=True)\n",
        "df.replace('time (ms)', np.nan, inplace=True)\n",
        "df.replace('tempo (ms)', np.nan, inplace=True)\n",
        "df.dropna(inplace=True)\n",
        "df = df.astype(float)\n",
        "df.rename(columns={'amb_t (°C)': 'most_t', 'mos_t (°C)': 'amb_t',\n",
        "                   'tempo (ms)': 'tempo',\t'pwm ()':'pwm'}, inplace=True)\n",
        "df.to_csv('df.csv', encoding='utf-8', index=False)"
      ]
    },
    {
      "cell_type": "code",
      "execution_count": null,
      "metadata": {
        "colab": {
          "base_uri": "https://localhost:8080/",
          "height": 206
        },
        "id": "KlISwgk9wMWg",
        "outputId": "24f7773a-5cc1-4071-9269-3690470e1a58"
      },
      "outputs": [
        {
          "output_type": "execute_result",
          "data": {
            "text/plain": [
              "     pwm    amb_t    mos_t\n",
              "0  255.0  23.1250  53.6875\n",
              "1  255.0  23.1875  53.9375\n",
              "2  255.0  23.1250  54.6250\n",
              "3  255.0  23.1875  55.6875\n",
              "4  255.0  23.1875  56.9375"
            ],
            "text/html": [
              "\n",
              "  <div id=\"df-2d8e2569-db18-4fd2-aa45-8e8e508bcce1\" class=\"colab-df-container\">\n",
              "    <div>\n",
              "<style scoped>\n",
              "    .dataframe tbody tr th:only-of-type {\n",
              "        vertical-align: middle;\n",
              "    }\n",
              "\n",
              "    .dataframe tbody tr th {\n",
              "        vertical-align: top;\n",
              "    }\n",
              "\n",
              "    .dataframe thead th {\n",
              "        text-align: right;\n",
              "    }\n",
              "</style>\n",
              "<table border=\"1\" class=\"dataframe\">\n",
              "  <thead>\n",
              "    <tr style=\"text-align: right;\">\n",
              "      <th></th>\n",
              "      <th>pwm</th>\n",
              "      <th>amb_t</th>\n",
              "      <th>mos_t</th>\n",
              "    </tr>\n",
              "  </thead>\n",
              "  <tbody>\n",
              "    <tr>\n",
              "      <th>0</th>\n",
              "      <td>255.0</td>\n",
              "      <td>23.1250</td>\n",
              "      <td>53.6875</td>\n",
              "    </tr>\n",
              "    <tr>\n",
              "      <th>1</th>\n",
              "      <td>255.0</td>\n",
              "      <td>23.1875</td>\n",
              "      <td>53.9375</td>\n",
              "    </tr>\n",
              "    <tr>\n",
              "      <th>2</th>\n",
              "      <td>255.0</td>\n",
              "      <td>23.1250</td>\n",
              "      <td>54.6250</td>\n",
              "    </tr>\n",
              "    <tr>\n",
              "      <th>3</th>\n",
              "      <td>255.0</td>\n",
              "      <td>23.1875</td>\n",
              "      <td>55.6875</td>\n",
              "    </tr>\n",
              "    <tr>\n",
              "      <th>4</th>\n",
              "      <td>255.0</td>\n",
              "      <td>23.1875</td>\n",
              "      <td>56.9375</td>\n",
              "    </tr>\n",
              "  </tbody>\n",
              "</table>\n",
              "</div>\n",
              "    <div class=\"colab-df-buttons\">\n",
              "\n",
              "  <div class=\"colab-df-container\">\n",
              "    <button class=\"colab-df-convert\" onclick=\"convertToInteractive('df-2d8e2569-db18-4fd2-aa45-8e8e508bcce1')\"\n",
              "            title=\"Convert this dataframe to an interactive table.\"\n",
              "            style=\"display:none;\">\n",
              "\n",
              "  <svg xmlns=\"http://www.w3.org/2000/svg\" height=\"24px\" viewBox=\"0 -960 960 960\">\n",
              "    <path d=\"M120-120v-720h720v720H120Zm60-500h600v-160H180v160Zm220 220h160v-160H400v160Zm0 220h160v-160H400v160ZM180-400h160v-160H180v160Zm440 0h160v-160H620v160ZM180-180h160v-160H180v160Zm440 0h160v-160H620v160Z\"/>\n",
              "  </svg>\n",
              "    </button>\n",
              "\n",
              "  <style>\n",
              "    .colab-df-container {\n",
              "      display:flex;\n",
              "      gap: 12px;\n",
              "    }\n",
              "\n",
              "    .colab-df-convert {\n",
              "      background-color: #E8F0FE;\n",
              "      border: none;\n",
              "      border-radius: 50%;\n",
              "      cursor: pointer;\n",
              "      display: none;\n",
              "      fill: #1967D2;\n",
              "      height: 32px;\n",
              "      padding: 0 0 0 0;\n",
              "      width: 32px;\n",
              "    }\n",
              "\n",
              "    .colab-df-convert:hover {\n",
              "      background-color: #E2EBFA;\n",
              "      box-shadow: 0px 1px 2px rgba(60, 64, 67, 0.3), 0px 1px 3px 1px rgba(60, 64, 67, 0.15);\n",
              "      fill: #174EA6;\n",
              "    }\n",
              "\n",
              "    .colab-df-buttons div {\n",
              "      margin-bottom: 4px;\n",
              "    }\n",
              "\n",
              "    [theme=dark] .colab-df-convert {\n",
              "      background-color: #3B4455;\n",
              "      fill: #D2E3FC;\n",
              "    }\n",
              "\n",
              "    [theme=dark] .colab-df-convert:hover {\n",
              "      background-color: #434B5C;\n",
              "      box-shadow: 0px 1px 3px 1px rgba(0, 0, 0, 0.15);\n",
              "      filter: drop-shadow(0px 1px 2px rgba(0, 0, 0, 0.3));\n",
              "      fill: #FFFFFF;\n",
              "    }\n",
              "  </style>\n",
              "\n",
              "    <script>\n",
              "      const buttonEl =\n",
              "        document.querySelector('#df-2d8e2569-db18-4fd2-aa45-8e8e508bcce1 button.colab-df-convert');\n",
              "      buttonEl.style.display =\n",
              "        google.colab.kernel.accessAllowed ? 'block' : 'none';\n",
              "\n",
              "      async function convertToInteractive(key) {\n",
              "        const element = document.querySelector('#df-2d8e2569-db18-4fd2-aa45-8e8e508bcce1');\n",
              "        const dataTable =\n",
              "          await google.colab.kernel.invokeFunction('convertToInteractive',\n",
              "                                                    [key], {});\n",
              "        if (!dataTable) return;\n",
              "\n",
              "        const docLinkHtml = 'Like what you see? Visit the ' +\n",
              "          '<a target=\"_blank\" href=https://colab.research.google.com/notebooks/data_table.ipynb>data table notebook</a>'\n",
              "          + ' to learn more about interactive tables.';\n",
              "        element.innerHTML = '';\n",
              "        dataTable['output_type'] = 'display_data';\n",
              "        await google.colab.output.renderOutput(dataTable, element);\n",
              "        const docLink = document.createElement('div');\n",
              "        docLink.innerHTML = docLinkHtml;\n",
              "        element.appendChild(docLink);\n",
              "      }\n",
              "    </script>\n",
              "  </div>\n",
              "\n",
              "\n",
              "<div id=\"df-e012bb3c-3a94-4d7b-a122-39204ce54c82\">\n",
              "  <button class=\"colab-df-quickchart\" onclick=\"quickchart('df-e012bb3c-3a94-4d7b-a122-39204ce54c82')\"\n",
              "            title=\"Suggest charts\"\n",
              "            style=\"display:none;\">\n",
              "\n",
              "<svg xmlns=\"http://www.w3.org/2000/svg\" height=\"24px\"viewBox=\"0 0 24 24\"\n",
              "     width=\"24px\">\n",
              "    <g>\n",
              "        <path d=\"M19 3H5c-1.1 0-2 .9-2 2v14c0 1.1.9 2 2 2h14c1.1 0 2-.9 2-2V5c0-1.1-.9-2-2-2zM9 17H7v-7h2v7zm4 0h-2V7h2v10zm4 0h-2v-4h2v4z\"/>\n",
              "    </g>\n",
              "</svg>\n",
              "  </button>\n",
              "\n",
              "<style>\n",
              "  .colab-df-quickchart {\n",
              "      --bg-color: #E8F0FE;\n",
              "      --fill-color: #1967D2;\n",
              "      --hover-bg-color: #E2EBFA;\n",
              "      --hover-fill-color: #174EA6;\n",
              "      --disabled-fill-color: #AAA;\n",
              "      --disabled-bg-color: #DDD;\n",
              "  }\n",
              "\n",
              "  [theme=dark] .colab-df-quickchart {\n",
              "      --bg-color: #3B4455;\n",
              "      --fill-color: #D2E3FC;\n",
              "      --hover-bg-color: #434B5C;\n",
              "      --hover-fill-color: #FFFFFF;\n",
              "      --disabled-bg-color: #3B4455;\n",
              "      --disabled-fill-color: #666;\n",
              "  }\n",
              "\n",
              "  .colab-df-quickchart {\n",
              "    background-color: var(--bg-color);\n",
              "    border: none;\n",
              "    border-radius: 50%;\n",
              "    cursor: pointer;\n",
              "    display: none;\n",
              "    fill: var(--fill-color);\n",
              "    height: 32px;\n",
              "    padding: 0;\n",
              "    width: 32px;\n",
              "  }\n",
              "\n",
              "  .colab-df-quickchart:hover {\n",
              "    background-color: var(--hover-bg-color);\n",
              "    box-shadow: 0 1px 2px rgba(60, 64, 67, 0.3), 0 1px 3px 1px rgba(60, 64, 67, 0.15);\n",
              "    fill: var(--button-hover-fill-color);\n",
              "  }\n",
              "\n",
              "  .colab-df-quickchart-complete:disabled,\n",
              "  .colab-df-quickchart-complete:disabled:hover {\n",
              "    background-color: var(--disabled-bg-color);\n",
              "    fill: var(--disabled-fill-color);\n",
              "    box-shadow: none;\n",
              "  }\n",
              "\n",
              "  .colab-df-spinner {\n",
              "    border: 2px solid var(--fill-color);\n",
              "    border-color: transparent;\n",
              "    border-bottom-color: var(--fill-color);\n",
              "    animation:\n",
              "      spin 1s steps(1) infinite;\n",
              "  }\n",
              "\n",
              "  @keyframes spin {\n",
              "    0% {\n",
              "      border-color: transparent;\n",
              "      border-bottom-color: var(--fill-color);\n",
              "      border-left-color: var(--fill-color);\n",
              "    }\n",
              "    20% {\n",
              "      border-color: transparent;\n",
              "      border-left-color: var(--fill-color);\n",
              "      border-top-color: var(--fill-color);\n",
              "    }\n",
              "    30% {\n",
              "      border-color: transparent;\n",
              "      border-left-color: var(--fill-color);\n",
              "      border-top-color: var(--fill-color);\n",
              "      border-right-color: var(--fill-color);\n",
              "    }\n",
              "    40% {\n",
              "      border-color: transparent;\n",
              "      border-right-color: var(--fill-color);\n",
              "      border-top-color: var(--fill-color);\n",
              "    }\n",
              "    60% {\n",
              "      border-color: transparent;\n",
              "      border-right-color: var(--fill-color);\n",
              "    }\n",
              "    80% {\n",
              "      border-color: transparent;\n",
              "      border-right-color: var(--fill-color);\n",
              "      border-bottom-color: var(--fill-color);\n",
              "    }\n",
              "    90% {\n",
              "      border-color: transparent;\n",
              "      border-bottom-color: var(--fill-color);\n",
              "    }\n",
              "  }\n",
              "</style>\n",
              "\n",
              "  <script>\n",
              "    async function quickchart(key) {\n",
              "      const quickchartButtonEl =\n",
              "        document.querySelector('#' + key + ' button');\n",
              "      quickchartButtonEl.disabled = true;  // To prevent multiple clicks.\n",
              "      quickchartButtonEl.classList.add('colab-df-spinner');\n",
              "      try {\n",
              "        const charts = await google.colab.kernel.invokeFunction(\n",
              "            'suggestCharts', [key], {});\n",
              "      } catch (error) {\n",
              "        console.error('Error during call to suggestCharts:', error);\n",
              "      }\n",
              "      quickchartButtonEl.classList.remove('colab-df-spinner');\n",
              "      quickchartButtonEl.classList.add('colab-df-quickchart-complete');\n",
              "    }\n",
              "    (() => {\n",
              "      let quickchartButtonEl =\n",
              "        document.querySelector('#df-e012bb3c-3a94-4d7b-a122-39204ce54c82 button');\n",
              "      quickchartButtonEl.style.display =\n",
              "        google.colab.kernel.accessAllowed ? 'block' : 'none';\n",
              "    })();\n",
              "  </script>\n",
              "</div>\n",
              "\n",
              "    </div>\n",
              "  </div>\n"
            ],
            "application/vnd.google.colaboratory.intrinsic+json": {
              "type": "dataframe",
              "variable_name": "df",
              "summary": "{\n  \"name\": \"df\",\n  \"rows\": 4979,\n  \"fields\": [\n    {\n      \"column\": \"pwm\",\n      \"properties\": {\n        \"dtype\": \"number\",\n        \"std\": 77.64757098585412,\n        \"min\": 0.0,\n        \"max\": 255.0,\n        \"num_unique_values\": 78,\n        \"samples\": [\n          11.0,\n          255.0,\n          151.0\n        ],\n        \"semantic_type\": \"\",\n        \"description\": \"\"\n      }\n    },\n    {\n      \"column\": \"amb_t\",\n      \"properties\": {\n        \"dtype\": \"number\",\n        \"std\": 0.6254389192971925,\n        \"min\": 23.125,\n        \"max\": 25.3125,\n        \"num_unique_values\": 36,\n        \"samples\": [\n          25.3125,\n          23.9375,\n          24.75\n        ],\n        \"semantic_type\": \"\",\n        \"description\": \"\"\n      }\n    },\n    {\n      \"column\": \"mos_t\",\n      \"properties\": {\n        \"dtype\": \"number\",\n        \"std\": 17.546831876344104,\n        \"min\": 26.6875,\n        \"max\": 99.4375,\n        \"num_unique_values\": 1129,\n        \"samples\": [\n          59.3125,\n          28.3125,\n          33.375\n        ],\n        \"semantic_type\": \"\",\n        \"description\": \"\"\n      }\n    }\n  ]\n}"
            }
          },
          "metadata": {},
          "execution_count": 6
        }
      ],
      "source": [
        "df.head()\n"
      ]
    },
    {
      "cell_type": "code",
      "execution_count": null,
      "metadata": {
        "id": "vcc2MZGDUatW",
        "colab": {
          "base_uri": "https://localhost:8080/",
          "height": 206
        },
        "outputId": "7de7c9fe-dc2e-4bf9-ead6-5894ec375c94"
      },
      "outputs": [
        {
          "output_type": "execute_result",
          "data": {
            "text/plain": [
              "     pwm    amb_t    mos_t\n",
              "0  255.0  23.1250  53.6875\n",
              "1  255.0  23.1875  53.9375\n",
              "2  255.0  23.1250  54.6250\n",
              "3  255.0  23.1875  55.6875\n",
              "4  255.0  23.1875  56.9375"
            ],
            "text/html": [
              "\n",
              "  <div id=\"df-5ffa16ed-f299-4448-a5ad-c1023483323e\" class=\"colab-df-container\">\n",
              "    <div>\n",
              "<style scoped>\n",
              "    .dataframe tbody tr th:only-of-type {\n",
              "        vertical-align: middle;\n",
              "    }\n",
              "\n",
              "    .dataframe tbody tr th {\n",
              "        vertical-align: top;\n",
              "    }\n",
              "\n",
              "    .dataframe thead th {\n",
              "        text-align: right;\n",
              "    }\n",
              "</style>\n",
              "<table border=\"1\" class=\"dataframe\">\n",
              "  <thead>\n",
              "    <tr style=\"text-align: right;\">\n",
              "      <th></th>\n",
              "      <th>pwm</th>\n",
              "      <th>amb_t</th>\n",
              "      <th>mos_t</th>\n",
              "    </tr>\n",
              "  </thead>\n",
              "  <tbody>\n",
              "    <tr>\n",
              "      <th>0</th>\n",
              "      <td>255.0</td>\n",
              "      <td>23.1250</td>\n",
              "      <td>53.6875</td>\n",
              "    </tr>\n",
              "    <tr>\n",
              "      <th>1</th>\n",
              "      <td>255.0</td>\n",
              "      <td>23.1875</td>\n",
              "      <td>53.9375</td>\n",
              "    </tr>\n",
              "    <tr>\n",
              "      <th>2</th>\n",
              "      <td>255.0</td>\n",
              "      <td>23.1250</td>\n",
              "      <td>54.6250</td>\n",
              "    </tr>\n",
              "    <tr>\n",
              "      <th>3</th>\n",
              "      <td>255.0</td>\n",
              "      <td>23.1875</td>\n",
              "      <td>55.6875</td>\n",
              "    </tr>\n",
              "    <tr>\n",
              "      <th>4</th>\n",
              "      <td>255.0</td>\n",
              "      <td>23.1875</td>\n",
              "      <td>56.9375</td>\n",
              "    </tr>\n",
              "  </tbody>\n",
              "</table>\n",
              "</div>\n",
              "    <div class=\"colab-df-buttons\">\n",
              "\n",
              "  <div class=\"colab-df-container\">\n",
              "    <button class=\"colab-df-convert\" onclick=\"convertToInteractive('df-5ffa16ed-f299-4448-a5ad-c1023483323e')\"\n",
              "            title=\"Convert this dataframe to an interactive table.\"\n",
              "            style=\"display:none;\">\n",
              "\n",
              "  <svg xmlns=\"http://www.w3.org/2000/svg\" height=\"24px\" viewBox=\"0 -960 960 960\">\n",
              "    <path d=\"M120-120v-720h720v720H120Zm60-500h600v-160H180v160Zm220 220h160v-160H400v160Zm0 220h160v-160H400v160ZM180-400h160v-160H180v160Zm440 0h160v-160H620v160ZM180-180h160v-160H180v160Zm440 0h160v-160H620v160Z\"/>\n",
              "  </svg>\n",
              "    </button>\n",
              "\n",
              "  <style>\n",
              "    .colab-df-container {\n",
              "      display:flex;\n",
              "      gap: 12px;\n",
              "    }\n",
              "\n",
              "    .colab-df-convert {\n",
              "      background-color: #E8F0FE;\n",
              "      border: none;\n",
              "      border-radius: 50%;\n",
              "      cursor: pointer;\n",
              "      display: none;\n",
              "      fill: #1967D2;\n",
              "      height: 32px;\n",
              "      padding: 0 0 0 0;\n",
              "      width: 32px;\n",
              "    }\n",
              "\n",
              "    .colab-df-convert:hover {\n",
              "      background-color: #E2EBFA;\n",
              "      box-shadow: 0px 1px 2px rgba(60, 64, 67, 0.3), 0px 1px 3px 1px rgba(60, 64, 67, 0.15);\n",
              "      fill: #174EA6;\n",
              "    }\n",
              "\n",
              "    .colab-df-buttons div {\n",
              "      margin-bottom: 4px;\n",
              "    }\n",
              "\n",
              "    [theme=dark] .colab-df-convert {\n",
              "      background-color: #3B4455;\n",
              "      fill: #D2E3FC;\n",
              "    }\n",
              "\n",
              "    [theme=dark] .colab-df-convert:hover {\n",
              "      background-color: #434B5C;\n",
              "      box-shadow: 0px 1px 3px 1px rgba(0, 0, 0, 0.15);\n",
              "      filter: drop-shadow(0px 1px 2px rgba(0, 0, 0, 0.3));\n",
              "      fill: #FFFFFF;\n",
              "    }\n",
              "  </style>\n",
              "\n",
              "    <script>\n",
              "      const buttonEl =\n",
              "        document.querySelector('#df-5ffa16ed-f299-4448-a5ad-c1023483323e button.colab-df-convert');\n",
              "      buttonEl.style.display =\n",
              "        google.colab.kernel.accessAllowed ? 'block' : 'none';\n",
              "\n",
              "      async function convertToInteractive(key) {\n",
              "        const element = document.querySelector('#df-5ffa16ed-f299-4448-a5ad-c1023483323e');\n",
              "        const dataTable =\n",
              "          await google.colab.kernel.invokeFunction('convertToInteractive',\n",
              "                                                    [key], {});\n",
              "        if (!dataTable) return;\n",
              "\n",
              "        const docLinkHtml = 'Like what you see? Visit the ' +\n",
              "          '<a target=\"_blank\" href=https://colab.research.google.com/notebooks/data_table.ipynb>data table notebook</a>'\n",
              "          + ' to learn more about interactive tables.';\n",
              "        element.innerHTML = '';\n",
              "        dataTable['output_type'] = 'display_data';\n",
              "        await google.colab.output.renderOutput(dataTable, element);\n",
              "        const docLink = document.createElement('div');\n",
              "        docLink.innerHTML = docLinkHtml;\n",
              "        element.appendChild(docLink);\n",
              "      }\n",
              "    </script>\n",
              "  </div>\n",
              "\n",
              "\n",
              "<div id=\"df-1c5a79be-0ae5-4c94-b663-191628bfd6a2\">\n",
              "  <button class=\"colab-df-quickchart\" onclick=\"quickchart('df-1c5a79be-0ae5-4c94-b663-191628bfd6a2')\"\n",
              "            title=\"Suggest charts\"\n",
              "            style=\"display:none;\">\n",
              "\n",
              "<svg xmlns=\"http://www.w3.org/2000/svg\" height=\"24px\"viewBox=\"0 0 24 24\"\n",
              "     width=\"24px\">\n",
              "    <g>\n",
              "        <path d=\"M19 3H5c-1.1 0-2 .9-2 2v14c0 1.1.9 2 2 2h14c1.1 0 2-.9 2-2V5c0-1.1-.9-2-2-2zM9 17H7v-7h2v7zm4 0h-2V7h2v10zm4 0h-2v-4h2v4z\"/>\n",
              "    </g>\n",
              "</svg>\n",
              "  </button>\n",
              "\n",
              "<style>\n",
              "  .colab-df-quickchart {\n",
              "      --bg-color: #E8F0FE;\n",
              "      --fill-color: #1967D2;\n",
              "      --hover-bg-color: #E2EBFA;\n",
              "      --hover-fill-color: #174EA6;\n",
              "      --disabled-fill-color: #AAA;\n",
              "      --disabled-bg-color: #DDD;\n",
              "  }\n",
              "\n",
              "  [theme=dark] .colab-df-quickchart {\n",
              "      --bg-color: #3B4455;\n",
              "      --fill-color: #D2E3FC;\n",
              "      --hover-bg-color: #434B5C;\n",
              "      --hover-fill-color: #FFFFFF;\n",
              "      --disabled-bg-color: #3B4455;\n",
              "      --disabled-fill-color: #666;\n",
              "  }\n",
              "\n",
              "  .colab-df-quickchart {\n",
              "    background-color: var(--bg-color);\n",
              "    border: none;\n",
              "    border-radius: 50%;\n",
              "    cursor: pointer;\n",
              "    display: none;\n",
              "    fill: var(--fill-color);\n",
              "    height: 32px;\n",
              "    padding: 0;\n",
              "    width: 32px;\n",
              "  }\n",
              "\n",
              "  .colab-df-quickchart:hover {\n",
              "    background-color: var(--hover-bg-color);\n",
              "    box-shadow: 0 1px 2px rgba(60, 64, 67, 0.3), 0 1px 3px 1px rgba(60, 64, 67, 0.15);\n",
              "    fill: var(--button-hover-fill-color);\n",
              "  }\n",
              "\n",
              "  .colab-df-quickchart-complete:disabled,\n",
              "  .colab-df-quickchart-complete:disabled:hover {\n",
              "    background-color: var(--disabled-bg-color);\n",
              "    fill: var(--disabled-fill-color);\n",
              "    box-shadow: none;\n",
              "  }\n",
              "\n",
              "  .colab-df-spinner {\n",
              "    border: 2px solid var(--fill-color);\n",
              "    border-color: transparent;\n",
              "    border-bottom-color: var(--fill-color);\n",
              "    animation:\n",
              "      spin 1s steps(1) infinite;\n",
              "  }\n",
              "\n",
              "  @keyframes spin {\n",
              "    0% {\n",
              "      border-color: transparent;\n",
              "      border-bottom-color: var(--fill-color);\n",
              "      border-left-color: var(--fill-color);\n",
              "    }\n",
              "    20% {\n",
              "      border-color: transparent;\n",
              "      border-left-color: var(--fill-color);\n",
              "      border-top-color: var(--fill-color);\n",
              "    }\n",
              "    30% {\n",
              "      border-color: transparent;\n",
              "      border-left-color: var(--fill-color);\n",
              "      border-top-color: var(--fill-color);\n",
              "      border-right-color: var(--fill-color);\n",
              "    }\n",
              "    40% {\n",
              "      border-color: transparent;\n",
              "      border-right-color: var(--fill-color);\n",
              "      border-top-color: var(--fill-color);\n",
              "    }\n",
              "    60% {\n",
              "      border-color: transparent;\n",
              "      border-right-color: var(--fill-color);\n",
              "    }\n",
              "    80% {\n",
              "      border-color: transparent;\n",
              "      border-right-color: var(--fill-color);\n",
              "      border-bottom-color: var(--fill-color);\n",
              "    }\n",
              "    90% {\n",
              "      border-color: transparent;\n",
              "      border-bottom-color: var(--fill-color);\n",
              "    }\n",
              "  }\n",
              "</style>\n",
              "\n",
              "  <script>\n",
              "    async function quickchart(key) {\n",
              "      const quickchartButtonEl =\n",
              "        document.querySelector('#' + key + ' button');\n",
              "      quickchartButtonEl.disabled = true;  // To prevent multiple clicks.\n",
              "      quickchartButtonEl.classList.add('colab-df-spinner');\n",
              "      try {\n",
              "        const charts = await google.colab.kernel.invokeFunction(\n",
              "            'suggestCharts', [key], {});\n",
              "      } catch (error) {\n",
              "        console.error('Error during call to suggestCharts:', error);\n",
              "      }\n",
              "      quickchartButtonEl.classList.remove('colab-df-spinner');\n",
              "      quickchartButtonEl.classList.add('colab-df-quickchart-complete');\n",
              "    }\n",
              "    (() => {\n",
              "      let quickchartButtonEl =\n",
              "        document.querySelector('#df-1c5a79be-0ae5-4c94-b663-191628bfd6a2 button');\n",
              "      quickchartButtonEl.style.display =\n",
              "        google.colab.kernel.accessAllowed ? 'block' : 'none';\n",
              "    })();\n",
              "  </script>\n",
              "</div>\n",
              "\n",
              "    </div>\n",
              "  </div>\n"
            ],
            "application/vnd.google.colaboratory.intrinsic+json": {
              "type": "dataframe",
              "variable_name": "df_n",
              "summary": "{\n  \"name\": \"df_n\",\n  \"rows\": 4979,\n  \"fields\": [\n    {\n      \"column\": \"pwm\",\n      \"properties\": {\n        \"dtype\": \"number\",\n        \"std\": 77.64757098585412,\n        \"min\": 0.0,\n        \"max\": 255.0,\n        \"num_unique_values\": 78,\n        \"samples\": [\n          11.0,\n          255.0,\n          151.0\n        ],\n        \"semantic_type\": \"\",\n        \"description\": \"\"\n      }\n    },\n    {\n      \"column\": \"amb_t\",\n      \"properties\": {\n        \"dtype\": \"number\",\n        \"std\": 0.6254389192971925,\n        \"min\": 23.125,\n        \"max\": 25.3125,\n        \"num_unique_values\": 36,\n        \"samples\": [\n          25.3125,\n          23.9375,\n          24.75\n        ],\n        \"semantic_type\": \"\",\n        \"description\": \"\"\n      }\n    },\n    {\n      \"column\": \"mos_t\",\n      \"properties\": {\n        \"dtype\": \"number\",\n        \"std\": 17.546831876344104,\n        \"min\": 26.6875,\n        \"max\": 99.4375,\n        \"num_unique_values\": 1129,\n        \"samples\": [\n          59.3125,\n          28.3125,\n          33.375\n        ],\n        \"semantic_type\": \"\",\n        \"description\": \"\"\n      }\n    }\n  ]\n}"
            }
          },
          "metadata": {},
          "execution_count": 7
        }
      ],
      "source": [
        "imputer = KNNImputer(n_neighbors=2, weights=\"uniform\")\n",
        "df_n = pd.DataFrame(imputer.fit_transform(df), columns=df.columns)\n",
        "df_n.head()"
      ]
    },
    {
      "cell_type": "code",
      "execution_count": null,
      "metadata": {
        "colab": {
          "base_uri": "https://localhost:8080/",
          "height": 966
        },
        "id": "6uHYnnZsUZPL",
        "outputId": "b2dfd947-6f10-4d53-b50a-b4acd79447e6"
      },
      "outputs": [
        {
          "output_type": "display_data",
          "data": {
            "text/plain": [
              "<Figure size 1200x1200 with 2 Axes>"
            ],
            "image/png": "[encoded data removed]"
          },
          "metadata": {}
        }
      ],
      "source": [
        "f,ax=plt.subplots(figsize=(12,12))\n",
        "corr=df_n.corr(method= 'pearson').abs()\n",
        "\n",
        "sns.heatmap(corr, annot=True, linewidths=.5, fmt='.2f',\n",
        "            mask= np.zeros_like(corr,dtype=bool),\n",
        "            cmap=sns.diverging_palette(100,200,as_cmap=True),\n",
        "            square=True, ax=ax)\n",
        "\n",
        "plt.show()"
      ]
    },
    {
      "cell_type": "code",
      "execution_count": null,
      "metadata": {
        "colab": {
          "base_uri": "https://localhost:8080/"
        },
        "id": "ofVBpZjvpQdu",
        "outputId": "b87c918c-bc69-42a3-ae2b-4a80e516f578"
      },
      "outputs": [
        {
          "output_type": "stream",
          "name": "stdout",
          "text": [
            "<class 'pandas.core.frame.DataFrame'>\n",
            "RangeIndex: 4979 entries, 0 to 4978\n",
            "Data columns (total 3 columns):\n",
            " #   Column  Non-Null Count  Dtype  \n",
            "---  ------  --------------  -----  \n",
            " 0   pwm     4979 non-null   float64\n",
            " 1   amb_t   4979 non-null   float64\n",
            " 2   mos_t   4979 non-null   float64\n",
            "dtypes: float64(3)\n",
            "memory usage: 116.8 KB\n"
          ]
        }
      ],
      "source": [
        "# prompt: converta as coluna em float\n",
        "\n",
        "df_n.info()\n"
      ]
    },
    {
      "cell_type": "code",
      "source": [
        "to_filter = [column for column in corr.columns if any((corr[column] > 0.50) *  (corr[column] < 1.0))]\n",
        "to_filter\n"
      ],
      "metadata": {
        "colab": {
          "base_uri": "https://localhost:8080/"
        },
        "id": "O4I0vrAeiqVM",
        "outputId": "5ac229ae-0027-4ddd-da42-07cdda434072"
      },
      "execution_count": null,
      "outputs": [
        {
          "output_type": "execute_result",
          "data": {
            "text/plain": [
              "['pwm', 'mos_t']"
            ]
          },
          "metadata": {},
          "execution_count": 10
        }
      ]
    },
    {
      "cell_type": "code",
      "source": [
        "#df_nn = df_n[to_filter]\n",
        "df_nn = df_n.copy()\n",
        "df_nn.head()"
      ],
      "metadata": {
        "colab": {
          "base_uri": "https://localhost:8080/",
          "height": 206
        },
        "id": "PUsntsvtmyd1",
        "outputId": "8af4f01e-2c3c-4c31-d230-5732d8e83a21"
      },
      "execution_count": null,
      "outputs": [
        {
          "output_type": "execute_result",
          "data": {
            "text/plain": [
              "     pwm    amb_t    mos_t\n",
              "0  255.0  23.1250  53.6875\n",
              "1  255.0  23.1875  53.9375\n",
              "2  255.0  23.1250  54.6250\n",
              "3  255.0  23.1875  55.6875\n",
              "4  255.0  23.1875  56.9375"
            ],
            "text/html": [
              "\n",
              "  <div id=\"df-8ff3a264-d8d0-4935-822e-32c7c894dcf1\" class=\"colab-df-container\">\n",
              "    <div>\n",
              "<style scoped>\n",
              "    .dataframe tbody tr th:only-of-type {\n",
              "        vertical-align: middle;\n",
              "    }\n",
              "\n",
              "    .dataframe tbody tr th {\n",
              "        vertical-align: top;\n",
              "    }\n",
              "\n",
              "    .dataframe thead th {\n",
              "        text-align: right;\n",
              "    }\n",
              "</style>\n",
              "<table border=\"1\" class=\"dataframe\">\n",
              "  <thead>\n",
              "    <tr style=\"text-align: right;\">\n",
              "      <th></th>\n",
              "      <th>pwm</th>\n",
              "      <th>amb_t</th>\n",
              "      <th>mos_t</th>\n",
              "    </tr>\n",
              "  </thead>\n",
              "  <tbody>\n",
              "    <tr>\n",
              "      <th>0</th>\n",
              "      <td>255.0</td>\n",
              "      <td>23.1250</td>\n",
              "      <td>53.6875</td>\n",
              "    </tr>\n",
              "    <tr>\n",
              "      <th>1</th>\n",
              "      <td>255.0</td>\n",
              "      <td>23.1875</td>\n",
              "      <td>53.9375</td>\n",
              "    </tr>\n",
              "    <tr>\n",
              "      <th>2</th>\n",
              "      <td>255.0</td>\n",
              "      <td>23.1250</td>\n",
              "      <td>54.6250</td>\n",
              "    </tr>\n",
              "    <tr>\n",
              "      <th>3</th>\n",
              "      <td>255.0</td>\n",
              "      <td>23.1875</td>\n",
              "      <td>55.6875</td>\n",
              "    </tr>\n",
              "    <tr>\n",
              "      <th>4</th>\n",
              "      <td>255.0</td>\n",
              "      <td>23.1875</td>\n",
              "      <td>56.9375</td>\n",
              "    </tr>\n",
              "  </tbody>\n",
              "</table>\n",
              "</div>\n",
              "    <div class=\"colab-df-buttons\">\n",
              "\n",
              "  <div class=\"colab-df-container\">\n",
              "    <button class=\"colab-df-convert\" onclick=\"convertToInteractive('df-8ff3a264-d8d0-4935-822e-32c7c894dcf1')\"\n",
              "            title=\"Convert this dataframe to an interactive table.\"\n",
              "            style=\"display:none;\">\n",
              "\n",
              "  <svg xmlns=\"http://www.w3.org/2000/svg\" height=\"24px\" viewBox=\"0 -960 960 960\">\n",
              "    <path d=\"M120-120v-720h720v720H120Zm60-500h600v-160H180v160Zm220 220h160v-160H400v160Zm0 220h160v-160H400v160ZM180-400h160v-160H180v160Zm440 0h160v-160H620v160ZM180-180h160v-160H180v160Zm440 0h160v-160H620v160Z\"/>\n",
              "  </svg>\n",
              "    </button>\n",
              "\n",
              "  <style>\n",
              "    .colab-df-container {\n",
              "      display:flex;\n",
              "      gap: 12px;\n",
              "    }\n",
              "\n",
              "    .colab-df-convert {\n",
              "      background-color: #E8F0FE;\n",
              "      border: none;\n",
              "      border-radius: 50%;\n",
              "      cursor: pointer;\n",
              "      display: none;\n",
              "      fill: #1967D2;\n",
              "      height: 32px;\n",
              "      padding: 0 0 0 0;\n",
              "      width: 32px;\n",
              "    }\n",
              "\n",
              "    .colab-df-convert:hover {\n",
              "      background-color: #E2EBFA;\n",
              "      box-shadow: 0px 1px 2px rgba(60, 64, 67, 0.3), 0px 1px 3px 1px rgba(60, 64, 67, 0.15);\n",
              "      fill: #174EA6;\n",
              "    }\n",
              "\n",
              "    .colab-df-buttons div {\n",
              "      margin-bottom: 4px;\n",
              "    }\n",
              "\n",
              "    [theme=dark] .colab-df-convert {\n",
              "      background-color: #3B4455;\n",
              "      fill: #D2E3FC;\n",
              "    }\n",
              "\n",
              "    [theme=dark] .colab-df-convert:hover {\n",
              "      background-color: #434B5C;\n",
              "      box-shadow: 0px 1px 3px 1px rgba(0, 0, 0, 0.15);\n",
              "      filter: drop-shadow(0px 1px 2px rgba(0, 0, 0, 0.3));\n",
              "      fill: #FFFFFF;\n",
              "    }\n",
              "  </style>\n",
              "\n",
              "    <script>\n",
              "      const buttonEl =\n",
              "        document.querySelector('#df-8ff3a264-d8d0-4935-822e-32c7c894dcf1 button.colab-df-convert');\n",
              "      buttonEl.style.display =\n",
              "        google.colab.kernel.accessAllowed ? 'block' : 'none';\n",
              "\n",
              "      async function convertToInteractive(key) {\n",
              "        const element = document.querySelector('#df-8ff3a264-d8d0-4935-822e-32c7c894dcf1');\n",
              "        const dataTable =\n",
              "          await google.colab.kernel.invokeFunction('convertToInteractive',\n",
              "                                                    [key], {});\n",
              "        if (!dataTable) return;\n",
              "\n",
              "        const docLinkHtml = 'Like what you see? Visit the ' +\n",
              "          '<a target=\"_blank\" href=https://colab.research.google.com/notebooks/data_table.ipynb>data table notebook</a>'\n",
              "          + ' to learn more about interactive tables.';\n",
              "        element.innerHTML = '';\n",
              "        dataTable['output_type'] = 'display_data';\n",
              "        await google.colab.output.renderOutput(dataTable, element);\n",
              "        const docLink = document.createElement('div');\n",
              "        docLink.innerHTML = docLinkHtml;\n",
              "        element.appendChild(docLink);\n",
              "      }\n",
              "    </script>\n",
              "  </div>\n",
              "\n",
              "\n",
              "<div id=\"df-4f20f446-390d-4900-885e-49a7610ee670\">\n",
              "  <button class=\"colab-df-quickchart\" onclick=\"quickchart('df-4f20f446-390d-4900-885e-49a7610ee670')\"\n",
              "            title=\"Suggest charts\"\n",
              "            style=\"display:none;\">\n",
              "\n",
              "<svg xmlns=\"http://www.w3.org/2000/svg\" height=\"24px\"viewBox=\"0 0 24 24\"\n",
              "     width=\"24px\">\n",
              "    <g>\n",
              "        <path d=\"M19 3H5c-1.1 0-2 .9-2 2v14c0 1.1.9 2 2 2h14c1.1 0 2-.9 2-2V5c0-1.1-.9-2-2-2zM9 17H7v-7h2v7zm4 0h-2V7h2v10zm4 0h-2v-4h2v4z\"/>\n",
              "    </g>\n",
              "</svg>\n",
              "  </button>\n",
              "\n",
              "<style>\n",
              "  .colab-df-quickchart {\n",
              "      --bg-color: #E8F0FE;\n",
              "      --fill-color: #1967D2;\n",
              "      --hover-bg-color: #E2EBFA;\n",
              "      --hover-fill-color: #174EA6;\n",
              "      --disabled-fill-color: #AAA;\n",
              "      --disabled-bg-color: #DDD;\n",
              "  }\n",
              "\n",
              "  [theme=dark] .colab-df-quickchart {\n",
              "      --bg-color: #3B4455;\n",
              "      --fill-color: #D2E3FC;\n",
              "      --hover-bg-color: #434B5C;\n",
              "      --hover-fill-color: #FFFFFF;\n",
              "      --disabled-bg-color: #3B4455;\n",
              "      --disabled-fill-color: #666;\n",
              "  }\n",
              "\n",
              "  .colab-df-quickchart {\n",
              "    background-color: var(--bg-color);\n",
              "    border: none;\n",
              "    border-radius: 50%;\n",
              "    cursor: pointer;\n",
              "    display: none;\n",
              "    fill: var(--fill-color);\n",
              "    height: 32px;\n",
              "    padding: 0;\n",
              "    width: 32px;\n",
              "  }\n",
              "\n",
              "  .colab-df-quickchart:hover {\n",
              "    background-color: var(--hover-bg-color);\n",
              "    box-shadow: 0 1px 2px rgba(60, 64, 67, 0.3), 0 1px 3px 1px rgba(60, 64, 67, 0.15);\n",
              "    fill: var(--button-hover-fill-color);\n",
              "  }\n",
              "\n",
              "  .colab-df-quickchart-complete:disabled,\n",
              "  .colab-df-quickchart-complete:disabled:hover {\n",
              "    background-color: var(--disabled-bg-color);\n",
              "    fill: var(--disabled-fill-color);\n",
              "    box-shadow: none;\n",
              "  }\n",
              "\n",
              "  .colab-df-spinner {\n",
              "    border: 2px solid var(--fill-color);\n",
              "    border-color: transparent;\n",
              "    border-bottom-color: var(--fill-color);\n",
              "    animation:\n",
              "      spin 1s steps(1) infinite;\n",
              "  }\n",
              "\n",
              "  @keyframes spin {\n",
              "    0% {\n",
              "      border-color: transparent;\n",
              "      border-bottom-color: var(--fill-color);\n",
              "      border-left-color: var(--fill-color);\n",
              "    }\n",
              "    20% {\n",
              "      border-color: transparent;\n",
              "      border-left-color: var(--fill-color);\n",
              "      border-top-color: var(--fill-color);\n",
              "    }\n",
              "    30% {\n",
              "      border-color: transparent;\n",
              "      border-left-color: var(--fill-color);\n",
              "      border-top-color: var(--fill-color);\n",
              "      border-right-color: var(--fill-color);\n",
              "    }\n",
              "    40% {\n",
              "      border-color: transparent;\n",
              "      border-right-color: var(--fill-color);\n",
              "      border-top-color: var(--fill-color);\n",
              "    }\n",
              "    60% {\n",
              "      border-color: transparent;\n",
              "      border-right-color: var(--fill-color);\n",
              "    }\n",
              "    80% {\n",
              "      border-color: transparent;\n",
              "      border-right-color: var(--fill-color);\n",
              "      border-bottom-color: var(--fill-color);\n",
              "    }\n",
              "    90% {\n",
              "      border-color: transparent;\n",
              "      border-bottom-color: var(--fill-color);\n",
              "    }\n",
              "  }\n",
              "</style>\n",
              "\n",
              "  <script>\n",
              "    async function quickchart(key) {\n",
              "      const quickchartButtonEl =\n",
              "        document.querySelector('#' + key + ' button');\n",
              "      quickchartButtonEl.disabled = true;  // To prevent multiple clicks.\n",
              "      quickchartButtonEl.classList.add('colab-df-spinner');\n",
              "      try {\n",
              "        const charts = await google.colab.kernel.invokeFunction(\n",
              "            'suggestCharts', [key], {});\n",
              "      } catch (error) {\n",
              "        console.error('Error during call to suggestCharts:', error);\n",
              "      }\n",
              "      quickchartButtonEl.classList.remove('colab-df-spinner');\n",
              "      quickchartButtonEl.classList.add('colab-df-quickchart-complete');\n",
              "    }\n",
              "    (() => {\n",
              "      let quickchartButtonEl =\n",
              "        document.querySelector('#df-4f20f446-390d-4900-885e-49a7610ee670 button');\n",
              "      quickchartButtonEl.style.display =\n",
              "        google.colab.kernel.accessAllowed ? 'block' : 'none';\n",
              "    })();\n",
              "  </script>\n",
              "</div>\n",
              "\n",
              "    </div>\n",
              "  </div>\n"
            ],
            "application/vnd.google.colaboratory.intrinsic+json": {
              "type": "dataframe",
              "variable_name": "df_nn",
              "summary": "{\n  \"name\": \"df_nn\",\n  \"rows\": 4979,\n  \"fields\": [\n    {\n      \"column\": \"pwm\",\n      \"properties\": {\n        \"dtype\": \"number\",\n        \"std\": 77.64757098585412,\n        \"min\": 0.0,\n        \"max\": 255.0,\n        \"num_unique_values\": 78,\n        \"samples\": [\n          11.0,\n          255.0,\n          151.0\n        ],\n        \"semantic_type\": \"\",\n        \"description\": \"\"\n      }\n    },\n    {\n      \"column\": \"amb_t\",\n      \"properties\": {\n        \"dtype\": \"number\",\n        \"std\": 0.6254389192971925,\n        \"min\": 23.125,\n        \"max\": 25.3125,\n        \"num_unique_values\": 36,\n        \"samples\": [\n          25.3125,\n          23.9375,\n          24.75\n        ],\n        \"semantic_type\": \"\",\n        \"description\": \"\"\n      }\n    },\n    {\n      \"column\": \"mos_t\",\n      \"properties\": {\n        \"dtype\": \"number\",\n        \"std\": 17.546831876344104,\n        \"min\": 26.6875,\n        \"max\": 99.4375,\n        \"num_unique_values\": 1129,\n        \"samples\": [\n          59.3125,\n          28.3125,\n          33.375\n        ],\n        \"semantic_type\": \"\",\n        \"description\": \"\"\n      }\n    }\n  ]\n}"
            }
          },
          "metadata": {},
          "execution_count": 11
        }
      ]
    },
    {
      "cell_type": "code",
      "execution_count": null,
      "metadata": {
        "colab": {
          "base_uri": "https://localhost:8080/"
        },
        "id": "SfHEaR6TWJnt",
        "outputId": "4d3341ca-e7bf-476d-d338-c9780a4fa4d5"
      },
      "outputs": [
        {
          "output_type": "stream",
          "name": "stdout",
          "text": [
            "(4979, 2)\n",
            "(4979, 2)\n",
            "(4979, 3)\n",
            "(4979, 1)\n"
          ]
        }
      ],
      "source": [
        "# Print the dataframe\n",
        "# df.head(10)\n",
        "# prompt: do dataframe df separe a coluna pm para o vetor y e o restante das colunas no vetor x\n",
        "\n",
        "X = df_nn.drop(['mos_t'], axis = 1).to_numpy()\n",
        "y = df_nn['mos_t'].to_numpy()\n",
        "\n",
        "print(X.shape)\n",
        "\n",
        "X_new = SelectKBest(mutual_info_regression, k='all').fit_transform(X, y)\n",
        "print(X_new.shape)\n",
        "\n",
        "X_scaler = MinMaxScaler(feature_range=(0, 1))\n",
        "y_scaler = MinMaxScaler(feature_range=(0, 1))\n",
        "\n",
        "X_scaled = X_scaler.fit_transform(X_new)\n",
        "y_scaled = y_scaler.fit_transform(y.reshape(-1, 1))\n",
        "\n",
        "X_scaled = np.append(X_scaled, y_scaled, axis=1)\n",
        "\n",
        "print(X_scaled.shape)\n",
        "print(y_scaled.shape)"
      ]
    },
    {
      "cell_type": "code",
      "execution_count": null,
      "metadata": {
        "colab": {
          "base_uri": "https://localhost:8080/"
        },
        "id": "_1wIKe259YZ5",
        "outputId": "2becc9ff-ef74-47f3-c8f8-aa9ee7fb56d5"
      },
      "outputs": [
        {
          "output_type": "stream",
          "name": "stdout",
          "text": [
            "(4731, 3)\n",
            "(290, 3)\n",
            "(4731, 1)\n",
            "(290, 1)\n"
          ]
        }
      ],
      "source": [
        "# Set window of past points for LSTM model\n",
        "window = 42\n",
        "#falar sobre Holdout Method; Cross-Validation; Leave-One-Out Cross-Validation (LOOCV)\n",
        "# Split ~80/10/0.2 into train/test/val data\n",
        "last = int(len(y_scaled)/20.0)\n",
        "Xtrain = X_scaled[:-last]\n",
        "Xval = X_scaled[-last-window:]\n",
        "\n",
        "ytrain = y_scaled[:-last]\n",
        "yval = y_scaled[-last-window:]\n",
        "\n",
        "#Xval = Xval[-600:,:]\n",
        "#yval = yval[-600:,:]\n",
        "\n",
        "print(Xtrain.shape)\n",
        "print(Xval.shape)\n",
        "print(ytrain.shape)\n",
        "print(yval.shape)"
      ]
    },
    {
      "cell_type": "code",
      "execution_count": null,
      "metadata": {
        "colab": {
          "base_uri": "https://localhost:8080/",
          "height": 447
        },
        "id": "MaFznsXRv4mw",
        "outputId": "b41c0db8-5a6a-4fc6-ed59-3bfe1b9501dd"
      },
      "outputs": [
        {
          "output_type": "execute_result",
          "data": {
            "text/plain": [
              "<matplotlib.legend.Legend at 0x7ef07662ada0>"
            ]
          },
          "metadata": {},
          "execution_count": 14
        },
        {
          "output_type": "display_data",
          "data": {
            "text/plain": [
              "<Figure size 640x480 with 1 Axes>"
            ],
            "image/png": "[encoded data removed]"
          },
          "metadata": {}
        }
      ],
      "source": [
        "plt.figure()\n",
        "plt.plot(y_scaler.inverse_transform(yval),'--',label='Actual')\n",
        "plt.legend()"
      ]
    },
    {
      "cell_type": "code",
      "execution_count": null,
      "metadata": {
        "id": "NwQDuHTSBSYx"
      },
      "outputs": [],
      "source": [
        "# Store window number of points as a sequence\n",
        "xin = []\n",
        "next_y = []\n",
        "for i in range(window,len(Xtrain)):\n",
        "    xin.append(Xtrain[i-window:i]);\n",
        "    next_y.append(ytrain[i])"
      ]
    },
    {
      "cell_type": "code",
      "execution_count": null,
      "metadata": {
        "colab": {
          "base_uri": "https://localhost:8080/"
        },
        "id": "crk3jKhfHK6y",
        "outputId": "7374536e-39ba-47a5-9ff0-99627ca8fc5f"
      },
      "outputs": [
        {
          "output_type": "stream",
          "name": "stdout",
          "text": [
            "[[1.         0.         0.37113402]\n",
            " [1.         0.02857143 0.37457045]\n",
            " [1.         0.         0.38402062]\n",
            " [1.         0.02857143 0.39862543]\n",
            " [1.         0.02857143 0.41580756]\n",
            " [1.         0.         0.43556701]\n",
            " [1.         0.         0.45704467]\n",
            " [1.         0.02857143 0.47852234]\n",
            " [1.         0.02857143 0.5       ]\n",
            " [1.         0.         0.52147766]\n",
            " [1.         0.05714286 0.79037801]\n",
            " [1.         0.02857143 0.8024055 ]\n",
            " [1.         0.05714286 0.81271478]\n",
            " [1.         0.02857143 0.82388316]\n",
            " [1.         0.02857143 0.83333333]\n",
            " [1.         0.02857143 0.8419244 ]\n",
            " [1.         0.02857143 0.85137457]\n",
            " [1.         0.02857143 0.85996564]\n",
            " [1.         0.02857143 0.8685567 ]\n",
            " [1.         0.05714286 0.87628866]\n",
            " [1.         0.02857143 0.88402062]\n",
            " [1.         0.05714286 0.89089347]\n",
            " [1.         0.02857143 0.89776632]\n",
            " [1.         0.02857143 0.90463918]\n",
            " [1.         0.02857143 0.91065292]\n",
            " [1.         0.02857143 0.91752577]\n",
            " [1.         0.02857143 0.92353952]\n",
            " [1.         0.02857143 0.92869416]\n",
            " [1.         0.05714286 0.9338488 ]\n",
            " [1.         0.02857143 0.93900344]\n",
            " [1.         0.02857143 0.94415808]\n",
            " [1.         0.02857143 0.94845361]\n",
            " [1.         0.05714286 0.95360825]\n",
            " [1.         0.05714286 0.95790378]\n",
            " [1.         0.05714286 0.96219931]\n",
            " [1.         0.05714286 0.96649485]\n",
            " [1.         0.08571429 0.97079038]\n",
            " [1.         0.05714286 0.97508591]\n",
            " [1.         0.05714286 0.97766323]\n",
            " [1.         0.05714286 0.98109966]\n",
            " [1.         0.05714286 0.98453608]\n",
            " [1.         0.05714286 0.9871134 ]]\n"
          ]
        }
      ],
      "source": [
        "# prompt: exibir o elemento 10 de xin\n",
        "\n",
        "print(xin[0])\n"
      ]
    },
    {
      "cell_type": "code",
      "execution_count": null,
      "metadata": {
        "colab": {
          "base_uri": "https://localhost:8080/"
        },
        "id": "aplXb9OPIcE2",
        "outputId": "e9a11233-893e-4262-b0ff-79c5ebeb311d"
      },
      "outputs": [
        {
          "output_type": "stream",
          "name": "stdout",
          "text": [
            "[array([0.99054983]), array([0.99398625]), array([0.99656357])]\n"
          ]
        }
      ],
      "source": [
        "print(next_y[0:3])"
      ]
    },
    {
      "cell_type": "code",
      "execution_count": null,
      "metadata": {
        "colab": {
          "base_uri": "https://localhost:8080/"
        },
        "id": "oEsMLIDbFQ1O",
        "outputId": "52df59ed-0cf4-48b9-d878-c5f64e9b85d9"
      },
      "outputs": [
        {
          "output_type": "stream",
          "name": "stdout",
          "text": [
            "(4689, 42, 3)\n",
            "(4689, 1)\n"
          ]
        }
      ],
      "source": [
        "# Transformando os dados para array\n",
        "xin, next_y = np.array(xin), np.array(next_y)\n",
        "print(xin.shape)\n",
        "print(next_y.shape)"
      ]
    },
    {
      "cell_type": "code",
      "execution_count": null,
      "metadata": {
        "colab": {
          "base_uri": "https://localhost:8080/"
        },
        "id": "01ttlDnQWROi",
        "outputId": "82a4166c-3382-48a0-8537-73c693fd9b2f"
      },
      "outputs": [
        {
          "output_type": "stream",
          "name": "stdout",
          "text": [
            "(4689, 42, 3)\n",
            "(4689, 1)\n"
          ]
        }
      ],
      "source": [
        "# Reshape data to format for LSTM\n",
        "xin = xin.reshape(xin.shape[0], xin.shape[1],xin.shape[2])#, 1)\n",
        "print(xin.shape)\n",
        "print(next_y.shape)"
      ]
    },
    {
      "cell_type": "code",
      "execution_count": null,
      "metadata": {
        "colab": {
          "base_uri": "https://localhost:8080/"
        },
        "id": "nOVH1Jv-Q7Nh",
        "outputId": "05399217-26b1-4302-8e65-b50f08a2c2ba"
      },
      "outputs": [
        {
          "output_type": "stream",
          "name": "stdout",
          "text": [
            "[[[1.         0.         0.37113402]\n",
            "  [1.         0.02857143 0.37457045]\n",
            "  [1.         0.         0.38402062]\n",
            "  [1.         0.02857143 0.39862543]\n",
            "  [1.         0.02857143 0.41580756]\n",
            "  [1.         0.         0.43556701]\n",
            "  [1.         0.         0.45704467]\n",
            "  [1.         0.02857143 0.47852234]\n",
            "  [1.         0.02857143 0.5       ]\n",
            "  [1.         0.         0.52147766]\n",
            "  [1.         0.05714286 0.79037801]\n",
            "  [1.         0.02857143 0.8024055 ]\n",
            "  [1.         0.05714286 0.81271478]\n",
            "  [1.         0.02857143 0.82388316]\n",
            "  [1.         0.02857143 0.83333333]\n",
            "  [1.         0.02857143 0.8419244 ]\n",
            "  [1.         0.02857143 0.85137457]\n",
            "  [1.         0.02857143 0.85996564]\n",
            "  [1.         0.02857143 0.8685567 ]\n",
            "  [1.         0.05714286 0.87628866]\n",
            "  [1.         0.02857143 0.88402062]\n",
            "  [1.         0.05714286 0.89089347]\n",
            "  [1.         0.02857143 0.89776632]\n",
            "  [1.         0.02857143 0.90463918]\n",
            "  [1.         0.02857143 0.91065292]\n",
            "  [1.         0.02857143 0.91752577]\n",
            "  [1.         0.02857143 0.92353952]\n",
            "  [1.         0.02857143 0.92869416]\n",
            "  [1.         0.05714286 0.9338488 ]\n",
            "  [1.         0.02857143 0.93900344]\n",
            "  [1.         0.02857143 0.94415808]\n",
            "  [1.         0.02857143 0.94845361]\n",
            "  [1.         0.05714286 0.95360825]\n",
            "  [1.         0.05714286 0.95790378]\n",
            "  [1.         0.05714286 0.96219931]\n",
            "  [1.         0.05714286 0.96649485]\n",
            "  [1.         0.08571429 0.97079038]\n",
            "  [1.         0.05714286 0.97508591]\n",
            "  [1.         0.05714286 0.97766323]\n",
            "  [1.         0.05714286 0.98109966]\n",
            "  [1.         0.05714286 0.98453608]\n",
            "  [1.         0.05714286 0.9871134 ]]\n",
            "\n",
            " [[1.         0.02857143 0.37457045]\n",
            "  [1.         0.         0.38402062]\n",
            "  [1.         0.02857143 0.39862543]\n",
            "  [1.         0.02857143 0.41580756]\n",
            "  [1.         0.         0.43556701]\n",
            "  [1.         0.         0.45704467]\n",
            "  [1.         0.02857143 0.47852234]\n",
            "  [1.         0.02857143 0.5       ]\n",
            "  [1.         0.         0.52147766]\n",
            "  [1.         0.05714286 0.79037801]\n",
            "  [1.         0.02857143 0.8024055 ]\n",
            "  [1.         0.05714286 0.81271478]\n",
            "  [1.         0.02857143 0.82388316]\n",
            "  [1.         0.02857143 0.83333333]\n",
            "  [1.         0.02857143 0.8419244 ]\n",
            "  [1.         0.02857143 0.85137457]\n",
            "  [1.         0.02857143 0.85996564]\n",
            "  [1.         0.02857143 0.8685567 ]\n",
            "  [1.         0.05714286 0.87628866]\n",
            "  [1.         0.02857143 0.88402062]\n",
            "  [1.         0.05714286 0.89089347]\n",
            "  [1.         0.02857143 0.89776632]\n",
            "  [1.         0.02857143 0.90463918]\n",
            "  [1.         0.02857143 0.91065292]\n",
            "  [1.         0.02857143 0.91752577]\n",
            "  [1.         0.02857143 0.92353952]\n",
            "  [1.         0.02857143 0.92869416]\n",
            "  [1.         0.05714286 0.9338488 ]\n",
            "  [1.         0.02857143 0.93900344]\n",
            "  [1.         0.02857143 0.94415808]\n",
            "  [1.         0.02857143 0.94845361]\n",
            "  [1.         0.05714286 0.95360825]\n",
            "  [1.         0.05714286 0.95790378]\n",
            "  [1.         0.05714286 0.96219931]\n",
            "  [1.         0.05714286 0.96649485]\n",
            "  [1.         0.08571429 0.97079038]\n",
            "  [1.         0.05714286 0.97508591]\n",
            "  [1.         0.05714286 0.97766323]\n",
            "  [1.         0.05714286 0.98109966]\n",
            "  [1.         0.05714286 0.98453608]\n",
            "  [1.         0.05714286 0.9871134 ]\n",
            "  [1.         0.08571429 0.99054983]]\n",
            "\n",
            " [[1.         0.         0.38402062]\n",
            "  [1.         0.02857143 0.39862543]\n",
            "  [1.         0.02857143 0.41580756]\n",
            "  [1.         0.         0.43556701]\n",
            "  [1.         0.         0.45704467]\n",
            "  [1.         0.02857143 0.47852234]\n",
            "  [1.         0.02857143 0.5       ]\n",
            "  [1.         0.         0.52147766]\n",
            "  [1.         0.05714286 0.79037801]\n",
            "  [1.         0.02857143 0.8024055 ]\n",
            "  [1.         0.05714286 0.81271478]\n",
            "  [1.         0.02857143 0.82388316]\n",
            "  [1.         0.02857143 0.83333333]\n",
            "  [1.         0.02857143 0.8419244 ]\n",
            "  [1.         0.02857143 0.85137457]\n",
            "  [1.         0.02857143 0.85996564]\n",
            "  [1.         0.02857143 0.8685567 ]\n",
            "  [1.         0.05714286 0.87628866]\n",
            "  [1.         0.02857143 0.88402062]\n",
            "  [1.         0.05714286 0.89089347]\n",
            "  [1.         0.02857143 0.89776632]\n",
            "  [1.         0.02857143 0.90463918]\n",
            "  [1.         0.02857143 0.91065292]\n",
            "  [1.         0.02857143 0.91752577]\n",
            "  [1.         0.02857143 0.92353952]\n",
            "  [1.         0.02857143 0.92869416]\n",
            "  [1.         0.05714286 0.9338488 ]\n",
            "  [1.         0.02857143 0.93900344]\n",
            "  [1.         0.02857143 0.94415808]\n",
            "  [1.         0.02857143 0.94845361]\n",
            "  [1.         0.05714286 0.95360825]\n",
            "  [1.         0.05714286 0.95790378]\n",
            "  [1.         0.05714286 0.96219931]\n",
            "  [1.         0.05714286 0.96649485]\n",
            "  [1.         0.08571429 0.97079038]\n",
            "  [1.         0.05714286 0.97508591]\n",
            "  [1.         0.05714286 0.97766323]\n",
            "  [1.         0.05714286 0.98109966]\n",
            "  [1.         0.05714286 0.98453608]\n",
            "  [1.         0.05714286 0.9871134 ]\n",
            "  [1.         0.08571429 0.99054983]\n",
            "  [1.         0.08571429 0.99398625]]]\n"
          ]
        }
      ],
      "source": [
        "print(xin[0:3])"
      ]
    },
    {
      "cell_type": "code",
      "execution_count": null,
      "metadata": {
        "colab": {
          "base_uri": "https://localhost:8080/"
        },
        "id": "avh5S_wQSNF6",
        "outputId": "f95f2f75-6e8a-48b5-db2d-09e0b98583a4"
      },
      "outputs": [
        {
          "output_type": "stream",
          "name": "stdout",
          "text": [
            "Shape de xin após redimensionamento: (4689, 42, 3)\n",
            "que significa que temos 4689 exemplos, cada um com 42 linhas e 3 colunas,\n",
            "e uma dimensão adicional com tamanho 1, que representa o canal de entrada para a LSTM.\n",
            "Todos os exemplos estão em um vetor coluna.\n"
          ]
        }
      ],
      "source": [
        "print(\"Shape de xin após redimensionamento:\", xin.shape)\n",
        "print(\"que significa que temos \"+ str(xin.shape[0]) + \" exemplos, cada um com \"+ str(xin.shape[1])+ \" linhas e \"+ str(xin.shape[2])+ \" colunas,\")\n",
        "print(\"e uma dimensão adicional com tamanho 1, que representa o canal de entrada para a LSTM.\")\n",
        "print(\"Todos os exemplos estão em um vetor coluna.\")\n"
      ]
    },
    {
      "cell_type": "code",
      "execution_count": null,
      "metadata": {
        "colab": {
          "base_uri": "https://localhost:8080/"
        },
        "id": "pl0FjHq42KlW",
        "outputId": "5bc6c294-4bcd-4b3a-bb94-99f0883d5fe0"
      },
      "outputs": [
        {
          "output_type": "stream",
          "name": "stdout",
          "text": [
            "(4689, 42, 3)\n",
            "(4689, 1)\n",
            "(3751, 42, 3)\n",
            "(938, 42, 3)\n",
            "(3751, 1)\n",
            "(938, 1)\n"
          ]
        }
      ],
      "source": [
        "print(xin.shape)\n",
        "print(next_y.shape)\n",
        "X_train, X_test, y_train, y_test = train_test_split(xin, next_y, test_size=0.2, random_state=42)\n",
        "print(X_train.shape)\n",
        "print(X_test.shape)\n",
        "print(y_train.shape)\n",
        "print(y_test.shape)"
      ]
    },
    {
      "cell_type": "code",
      "source": [
        "def build_dataset2(window=180, batch=192):\n",
        "  dataset = tf.keras.utils.timeseries_dataset_from_array(\n",
        "      X_scaled,\n",
        "      targets=y_scaled,\n",
        "      sequence_length=window,\n",
        "      sequence_stride=window,\n",
        "      shuffle=True,\n",
        "      batch_size=batch)\n",
        "  return dataset"
      ],
      "metadata": {
        "id": "TP9zhbCmLq3b"
      },
      "execution_count": null,
      "outputs": []
    },
    {
      "cell_type": "code",
      "source": [
        "def build_dataset(window=180, batch=192):\n",
        "  global train_tf, test_tf\n",
        "  #falar sobre Holdout Method; Cross-Validation; Leave-One-Out Cross-Validation (LOOCV)\n",
        "  # Split ~80/10/0.2 into train/test/val data\n",
        "  last = int(len(y_scaled)/20.0)\n",
        "  Xtrain = X_scaled[:-last]\n",
        "  Xval = X_scaled[-last-window:]\n",
        "\n",
        "  ytrain = y_scaled[:-last]\n",
        "  yval = y_scaled[-last-window:]\n",
        "\n",
        "  # Store window number of points as a sequence\n",
        "  xin = []\n",
        "  next_y = []\n",
        "  for i in range(window,len(Xtrain)):\n",
        "      xin.append(Xtrain[i-window:i]);\n",
        "      next_y.append(ytrain[i])\n",
        "\n",
        "  # Transformando os dados para array\n",
        "  xin, next_y = np.array(xin), np.array(next_y)\n",
        "\n",
        "  def optimize(train_dataset):\n",
        "    def map_function(x, y):\n",
        "      return x , y\n",
        "\n",
        "    #train_dataset = train_dataset.repeat()\n",
        "    train_dataset = train_dataset.map(map_function, tf.data.experimental.AUTOTUNE)\n",
        "    train_dataset = train_dataset.batch(batch)\n",
        "    train_dataset = train_dataset.prefetch(buffer_size=64)\n",
        "    return train_dataset\n",
        "\n",
        "  # Reshape data to format for LSTM\n",
        "  xin = xin.reshape(xin.shape[0], xin.shape[1],xin.shape[2])#, 1)\n",
        "  X_train, X_test, y_train, y_test = train_test_split(xin, next_y, test_size=0.2, random_state=seed)\n",
        "  train_tf = optimize(tf.data.Dataset.from_tensor_slices((X_train,y_train)))#.batch(batch)\n",
        "  test_tf = optimize(tf.data.Dataset.from_tensor_slices((X_test,y_test)))#.batch(batch)\n",
        "\n",
        "  return train_tf, test_tf"
      ],
      "metadata": {
        "id": "5jvz7Kk6nRbI"
      },
      "execution_count": null,
      "outputs": []
    },
    {
      "cell_type": "code",
      "source": [
        "train_tf, test_tf = build_dataset(window=42, batch=32)\n",
        "train_tf"
      ],
      "metadata": {
        "colab": {
          "base_uri": "https://localhost:8080/"
        },
        "id": "0ZT-ZZhW17UC",
        "outputId": "f3253da3-bda9-490d-a7a1-67dd2e3e8646"
      },
      "execution_count": null,
      "outputs": [
        {
          "output_type": "execute_result",
          "data": {
            "text/plain": [
              "<_PrefetchDataset element_spec=(TensorSpec(shape=(None, 42, 3), dtype=tf.float64, name=None), TensorSpec(shape=(None, 1), dtype=tf.float64, name=None))>"
            ]
          },
          "metadata": {},
          "execution_count": 25
        }
      ]
    },
    {
      "cell_type": "markdown",
      "metadata": {
        "id": "hfp8GKu6Xw8z"
      },
      "source": [
        "# Modelo"
      ]
    },
    {
      "cell_type": "code",
      "execution_count": null,
      "metadata": {
        "id": "j6q7oQPRXRvN"
      },
      "outputs": [],
      "source": [
        "# # Initialize LSTM model\n",
        "def build_model():\n",
        "  m = Sequential()\n",
        "  #m.add(Reshape(target_shape=(xin.shape[1], xin.shape[2]), input_shape=(xin.shape[1], xin.shape[2])))\n",
        "  m.add(InputLayer(input_shape=(xin.shape[1], xin.shape[2])))\n",
        "  m.add(LSTM(units=24, return_sequences=True))\n",
        "  #m.add(Dropout(0.1))\n",
        "  m.add(LSTM(units=64, return_sequences=True))\n",
        "  m.add(LSTM(units=40, return_sequences=True))\n",
        "  m.add(Dropout(0.3))\n",
        "  m.add(LSTM(units=64, return_sequences=True))\n",
        "  m.add(Dropout(0.1))\n",
        "  m.add(LSTM(units=64, return_sequences=False))\n",
        "  m.add(Dropout(0.1))\n",
        "  m.add(Dense(units=1))\n",
        "  m.compile(optimizer = tf.keras.optimizers.Adam(\n",
        "      learning_rate = 0.007),\n",
        "      loss = 'mean_squared_error',\n",
        "      metrics=['mean_squared_error'])\n",
        "  return m\n",
        "\n",
        "# Inicializar o modelo RNN\n",
        "#m = Sequential()\n",
        "# Adicionar a camada RNN\n",
        "#m.add(SimpleRNN(units=50, return_sequences=True, input_shape=(xin.shape[1], 1)))\n",
        "# Adicionar outra camada RNN (se necessário)\n",
        "#m.add(SimpleRNN(units=50, return_sequences=False))\n",
        "# Adicionar a camada de saída\n",
        "#m.add(Dense(units=1))\n",
        "# Compilar o modelo\n",
        "#m.compile(optimizer='adam', loss='mean_squared_error')\n",
        "\n",
        "\n",
        "# # Inicializar o modelo GRU\n",
        "# m = Sequential()\n",
        "# # Adicionar a camada GRU\n",
        "# m.add(GRU(units=50, return_sequences=True, input_shape=(xin.shape[1], 1)))\n",
        "# m.add(Dropout(0.2))\n",
        "# # Adicionar outra camada GRU (se necessário)\n",
        "# m.add(GRU(units=50, return_sequences=False))\n",
        "# m.add(Dropout(0.2))\n",
        "# # Adicionar a camada de saída\n",
        "# m.add(Dense(units=1))\n",
        "# # Compilar o modelo\n",
        "# m.compile(optimizer='adam', loss='mean_squared_error')\n"
      ]
    },
    {
      "cell_type": "code",
      "execution_count": null,
      "metadata": {
        "colab": {
          "base_uri": "https://localhost:8080/",
          "height": 953
        },
        "id": "2WO46A1QoYzL",
        "outputId": "9c0ce07d-8075-4a4f-ea4f-e1aa4048d5a7"
      },
      "outputs": [
        {
          "output_type": "execute_result",
          "data": {
            "image/png": "[encoded data removed]",
            "text/plain": [
              "<IPython.core.display.Image object>"
            ]
          },
          "metadata": {},
          "execution_count": 27
        }
      ],
      "source": [
        "m = build_model()\n",
        "plot_model(m)\n"
      ]
    },
    {
      "cell_type": "code",
      "execution_count": null,
      "metadata": {
        "colab": {
          "base_uri": "https://localhost:8080/"
        },
        "id": "HZy5U6VAouCp",
        "outputId": "fc9b81af-2553-4258-d7c9-30fc8eabf4b2"
      },
      "outputs": [
        {
          "output_type": "stream",
          "name": "stdout",
          "text": [
            "Model: \"sequential\"\n",
            "_________________________________________________________________\n",
            " Layer (type)                Output Shape              Param #   \n",
            "=================================================================\n",
            " lstm (LSTM)                 (None, 42, 24)            2688      \n",
            "                                                                 \n",
            " lstm_1 (LSTM)               (None, 42, 64)            22784     \n",
            "                                                                 \n",
            " lstm_2 (LSTM)               (None, 42, 40)            16800     \n",
            "                                                                 \n",
            " dropout (Dropout)           (None, 42, 40)            0         \n",
            "                                                                 \n",
            " lstm_3 (LSTM)               (None, 42, 64)            26880     \n",
            "                                                                 \n",
            " dropout_1 (Dropout)         (None, 42, 64)            0         \n",
            "                                                                 \n",
            " lstm_4 (LSTM)               (None, 64)                33024     \n",
            "                                                                 \n",
            " dropout_2 (Dropout)         (None, 64)                0         \n",
            "                                                                 \n",
            " dense (Dense)               (None, 1)                 65        \n",
            "                                                                 \n",
            "=================================================================\n",
            "Total params: 102241 (399.38 KB)\n",
            "Trainable params: 102241 (399.38 KB)\n",
            "Non-trainable params: 0 (0.00 Byte)\n",
            "_________________________________________________________________\n"
          ]
        }
      ],
      "source": [
        "m.summary()"
      ]
    },
    {
      "cell_type": "markdown",
      "metadata": {
        "id": "CyECaxwfZPk9"
      },
      "source": [
        "# Tune"
      ]
    },
    {
      "cell_type": "code",
      "execution_count": null,
      "metadata": {
        "id": "w_NAzlpYZTne"
      },
      "outputs": [],
      "source": [
        "class MyHyperModel(kt.HyperModel):\n",
        "  def build(self, hp):\n",
        "    window = hp.Int('window', 10, 200, step=8, default=180)\n",
        "    batch = hp.Int('batch', 32, 512, step=32, default=192)\n",
        "\n",
        "    model = Sequential()\n",
        "    #model.add(Reshape(target_shape=(xin.shape[1], xin.shape[2]), input_shape=(xin.shape[1], xin.shape[2])))\n",
        "    model.add(InputLayer(input_shape=(window, xin.shape[2])))\n",
        "    model.add(LSTM(units= hp.Int('lstm_0_units', 16, 32, step=4, default=24), return_sequences=True))\n",
        "    model.add(Dropout(hp.Float('dropout_0', 0, 0.5, step=0.1, default=0.0)))\n",
        "\n",
        "    for i in range(hp.Int('n_layers', 1, 4)):\n",
        "      model.add(LSTM(hp.Int(f'lstm_{i}_units',min_value=56,max_value=96,step=8),return_sequences=True))\n",
        "      model.add(Dropout(hp.Float(f'dropout_{i}', 0, 0.5, step=0.1, default=0.0)))\n",
        "\n",
        "    model.add(LSTM(units= hp.Int('lstm_end_units', 56, 96, step=8, default=64), return_sequences=False))\n",
        "    model.add(Dropout(hp.Float('dropout_end', 0, 0.5, step=0.1, default=0.1)))\n",
        "    model.add(Dense(units=1, activation=hp.Choice('dense_activation',values=['relu', 'sigmoid'],default='relu')))\n",
        "\n",
        "    model.compile(\n",
        "      optimizer=tf.keras.optimizers.Adam(\n",
        "      hp.Float('learning_rate', 1e-4, 1e-2, sampling='log', default=0.007)),\n",
        "      loss='mean_squared_error',\n",
        "      metrics=['mean_squared_error'])\n",
        "    return model\n",
        "\n",
        "  def fit(self, hp, model, validation_data=None, **kwargs):\n",
        "    window = hp.get(\"window\")\n",
        "    batch = hp.get(\"batch\")\n",
        "    train_tf, test_tf = build_dataset(window, batch)\n",
        "    steps_per_epoch = train_tf.cardinality().numpy() // batch\n",
        "    history = model.fit(train_tf,\n",
        "                        steps_per_epoch=steps_per_epoch,\n",
        "                        validation_data=test_tf,\n",
        "                        **kwargs)\n",
        "    return history"
      ]
    },
    {
      "cell_type": "code",
      "execution_count": null,
      "metadata": {
        "colab": {
          "base_uri": "https://localhost:8080/"
        },
        "id": "c-vrcTw2yC1d",
        "outputId": "8a259515-fffa-4b46-dc85-ca66a9e6e8c5"
      },
      "outputs": [
        {
          "output_type": "stream",
          "name": "stdout",
          "text": [
            "Number of devices: 1\n"
          ]
        }
      ],
      "source": [
        "tf.debugging.set_log_device_placement(True)\n",
        "gpus = tf.config.list_logical_devices('GPU')\n",
        "strategy = tf.distribute.OneDeviceStrategy(device=\"/gpu:0\")\n",
        "print('Number of devices: {}'.format(strategy.num_replicas_in_sync))"
      ]
    },
    {
      "cell_type": "code",
      "execution_count": null,
      "metadata": {
        "id": "UdIRrKPGp5XW"
      },
      "outputs": [],
      "source": [
        "!rm -r /content/my_dir"
      ]
    },
    {
      "cell_type": "code",
      "execution_count": null,
      "metadata": {
        "id": "tR8JVSQ9fWVl"
      },
      "outputs": [],
      "source": [
        "tuner = kt.Hyperband(\n",
        "    MyHyperModel(),\n",
        "    objective='val_loss',\n",
        "    max_epochs=10,\n",
        "    hyperband_iterations=2,\n",
        "    factor=3,\n",
        "    overwrite=True,\n",
        "    directory='my_dir',\n",
        "    max_consecutive_failed_trials=50  # Increase the limit to 5\n",
        "    )"
      ]
    },
    {
      "cell_type": "code",
      "execution_count": null,
      "metadata": {
        "id": "_cdKuEvCfnHT",
        "colab": {
          "base_uri": "https://localhost:8080/",
          "height": 443
        },
        "outputId": "110360d4-6a5f-444a-c153-2d4317db6847"
      },
      "outputs": [
        {
          "output_type": "stream",
          "name": "stdout",
          "text": [
            "Trial 44 Complete [00h 00m 02s]\n",
            "\n",
            "Best val_loss So Far: 0.05503540113568306\n",
            "Total elapsed time: 00h 07m 33s\n"
          ]
        },
        {
          "output_type": "error",
          "ename": "IndexError",
          "evalue": "pop from empty list",
          "traceback": [
            "\u001b[0;31m---------------------------------------------------------------------------\u001b[0m",
            "\u001b[0;31mIndexError\u001b[0m                                Traceback (most recent call last)",
            "\u001b[0;32m<ipython-input-28-a23e7bb90a6b>\u001b[0m in \u001b[0;36m<cell line: 1>\u001b[0;34m()\u001b[0m\n\u001b[0;32m----> 1\u001b[0;31m \u001b[0;32mwith\u001b[0m \u001b[0mstrategy\u001b[0m\u001b[0;34m.\u001b[0m\u001b[0mscope\u001b[0m\u001b[0;34m(\u001b[0m\u001b[0;34m)\u001b[0m\u001b[0;34m:\u001b[0m\u001b[0;34m\u001b[0m\u001b[0;34m\u001b[0m\u001b[0m\n\u001b[0m\u001b[1;32m      2\u001b[0m   \u001b[0mtf\u001b[0m\u001b[0;34m.\u001b[0m\u001b[0mkeras\u001b[0m\u001b[0;34m.\u001b[0m\u001b[0mmixed_precision\u001b[0m\u001b[0;34m.\u001b[0m\u001b[0mset_global_policy\u001b[0m\u001b[0;34m(\u001b[0m\u001b[0;34m\"mixed_float16\"\u001b[0m\u001b[0;34m)\u001b[0m  \u001b[0;31m# Set the mixed precision policy\u001b[0m\u001b[0;34m\u001b[0m\u001b[0;34m\u001b[0m\u001b[0m\n\u001b[1;32m      3\u001b[0m   \u001b[0;32mtry\u001b[0m\u001b[0;34m:\u001b[0m\u001b[0;34m\u001b[0m\u001b[0;34m\u001b[0m\u001b[0m\n\u001b[1;32m      4\u001b[0m     tuner.search(train_tf,\n\u001b[1;32m      5\u001b[0m                   \u001b[0mvalidation_steps\u001b[0m\u001b[0;34m=\u001b[0m\u001b[0;36m10\u001b[0m\u001b[0;34m,\u001b[0m\u001b[0;34m\u001b[0m\u001b[0;34m\u001b[0m\u001b[0m\n",
            "\u001b[0;32m/usr/local/lib/python3.10/dist-packages/tensorflow/python/distribute/distribute_lib.py\u001b[0m in \u001b[0;36m__exit__\u001b[0;34m(self, exception_type, exception_value, traceback)\u001b[0m\n\u001b[1;32m    818\u001b[0m                          \"tf.distribute.set_strategy() out of `with` scope.\"),\n\u001b[1;32m    819\u001b[0m             e)\n\u001b[0;32m--> 820\u001b[0;31m     \u001b[0m_pop_per_thread_mode\u001b[0m\u001b[0;34m(\u001b[0m\u001b[0;34m)\u001b[0m\u001b[0;34m\u001b[0m\u001b[0;34m\u001b[0m\u001b[0m\n\u001b[0m\u001b[1;32m    821\u001b[0m \u001b[0;34m\u001b[0m\u001b[0m\n\u001b[1;32m    822\u001b[0m \u001b[0;34m\u001b[0m\u001b[0m\n",
            "\u001b[0;32m/usr/local/lib/python3.10/dist-packages/tensorflow/python/distribute/distribute_lib.py\u001b[0m in \u001b[0;36m_pop_per_thread_mode\u001b[0;34m()\u001b[0m\n\u001b[1;32m    370\u001b[0m \u001b[0;34m\u001b[0m\u001b[0m\n\u001b[1;32m    371\u001b[0m \u001b[0;32mdef\u001b[0m \u001b[0m_pop_per_thread_mode\u001b[0m\u001b[0;34m(\u001b[0m\u001b[0;34m)\u001b[0m\u001b[0;34m:\u001b[0m\u001b[0;34m\u001b[0m\u001b[0;34m\u001b[0m\u001b[0m\n\u001b[0;32m--> 372\u001b[0;31m   \u001b[0mops\u001b[0m\u001b[0;34m.\u001b[0m\u001b[0mget_default_graph\u001b[0m\u001b[0;34m(\u001b[0m\u001b[0;34m)\u001b[0m\u001b[0;34m.\u001b[0m\u001b[0m_distribution_strategy_stack\u001b[0m\u001b[0;34m.\u001b[0m\u001b[0mpop\u001b[0m\u001b[0;34m(\u001b[0m\u001b[0;34m-\u001b[0m\u001b[0;36m1\u001b[0m\u001b[0;34m)\u001b[0m  \u001b[0;31m# pylint: disable=protected-access\u001b[0m\u001b[0;34m\u001b[0m\u001b[0;34m\u001b[0m\u001b[0m\n\u001b[0m\u001b[1;32m    373\u001b[0m \u001b[0;34m\u001b[0m\u001b[0m\n\u001b[1;32m    374\u001b[0m \u001b[0;34m\u001b[0m\u001b[0m\n",
            "\u001b[0;31mIndexError\u001b[0m: pop from empty list"
          ]
        }
      ],
      "source": [
        "with strategy.scope():\n",
        "  tf.keras.mixed_precision.set_global_policy(\"mixed_float16\")  # Set the mixed precision policy\n",
        "  try:\n",
        "    tuner.search(train_tf,\n",
        "                  validation_steps=10,\n",
        "                  epochs=10,\n",
        "                  callbacks=[tf.keras.callbacks.EarlyStopping(patience=3)])\n",
        "  finally:\n",
        "    pass"
      ]
    },
    {
      "cell_type": "code",
      "execution_count": null,
      "metadata": {
        "colab": {
          "base_uri": "https://localhost:8080/"
        },
        "id": "5XmltEQTgc9A",
        "outputId": "2da988b8-a04e-4b5e-9f4c-2f80e4c3c208"
      },
      "outputs": [
        {
          "output_type": "stream",
          "name": "stdout",
          "text": [
            "{'window': 42, 'batch': 32, 'lstm_0_units': 24, 'dropout_0': 0.2, 'n_layers': 2, 'lstm_end_units': 80, 'dropout_end': 0.2, 'dense_activation': 'sigmoid', 'learning_rate': 0.00021420783979311065, 'lstm_1_units': 96, 'dropout_1': 0.2, 'lstm_2_units': 80, 'dropout_2': 0.1, 'lstm_3_units': 80, 'dropout_3': 0.4, 'tuner/epochs': 4, 'tuner/initial_epoch': 0, 'tuner/bracket': 1, 'tuner/round': 0}\n"
          ]
        }
      ],
      "source": [
        "best_model = tuner.get_best_models(1)[0]\n",
        "best_hyperparameters = tuner.get_best_hyperparameters(1)[0]\n",
        "m = best_model\n",
        "print(best_hyperparameters.values)"
      ]
    },
    {
      "cell_type": "code",
      "source": [
        "X_train.shape"
      ],
      "metadata": {
        "colab": {
          "base_uri": "https://localhost:8080/"
        },
        "id": "kYLtPK6uuQyV",
        "outputId": "aad2fc4c-339a-4146-eed1-2059eec1264d"
      },
      "execution_count": null,
      "outputs": [
        {
          "output_type": "execute_result",
          "data": {
            "text/plain": [
              "(3751, 42, 3)"
            ]
          },
          "metadata": {},
          "execution_count": 52
        }
      ]
    },
    {
      "cell_type": "markdown",
      "metadata": {
        "id": "-WXtXkeSzXg1"
      },
      "source": [
        "# Treino"
      ]
    },
    {
      "cell_type": "code",
      "execution_count": null,
      "metadata": {
        "id": "Wlrx1XiRbzkM"
      },
      "outputs": [],
      "source": [
        "ear = EarlyStopping(\n",
        "    monitor=\"val_loss\",\n",
        "    min_delta=0,\n",
        "    patience=10,\n",
        "    verbose=0,\n",
        "    mode=\"auto\",\n",
        "    baseline=None,\n",
        "    restore_best_weights=True,\n",
        "    start_from_epoch=0,\n",
        ")"
      ]
    },
    {
      "cell_type": "code",
      "execution_count": null,
      "metadata": {
        "colab": {
          "base_uri": "https://localhost:8080/"
        },
        "id": "noLESuhbxiRC",
        "outputId": "7cd5f727-adc1-4b79-c7d5-cdecec74a251"
      },
      "outputs": [
        {
          "output_type": "stream",
          "name": "stdout",
          "text": [
            "16155\n",
            "Number of devices: 1\n"
          ]
        }
      ],
      "source": [
        "reset_keras()\n",
        "tf.debugging.set_log_device_placement(True)\n",
        "gpus = tf.config.list_logical_devices('GPU')\n",
        "strategy = tf.distribute.OneDeviceStrategy(device=\"/GPU:0\")\n",
        "print('Number of devices: {}'.format(strategy.num_replicas_in_sync))"
      ]
    },
    {
      "cell_type": "code",
      "execution_count": null,
      "metadata": {
        "colab": {
          "base_uri": "https://localhost:8080/"
        },
        "id": "J5GBdTvfXpnD",
        "outputId": "2b7aedd5-110e-42ad-8b40-06f918b44f70"
      },
      "outputs": [
        {
          "output_type": "stream",
          "name": "stdout",
          "text": [
            "Epoch 1/50\n",
            "118/118 [==============================] - 31s 77ms/step - loss: 0.0666 - mean_squared_error: 0.0666 - val_loss: 0.0014 - val_mean_squared_error: 0.0014\n",
            "Epoch 2/50\n",
            "118/118 [==============================] - 2s 18ms/step - loss: 0.0023 - mean_squared_error: 0.0023 - val_loss: 3.8708e-04 - val_mean_squared_error: 3.8708e-04\n",
            "Epoch 3/50\n",
            "118/118 [==============================] - 3s 23ms/step - loss: 0.0013 - mean_squared_error: 0.0013 - val_loss: 2.8943e-04 - val_mean_squared_error: 2.8943e-04\n",
            "Epoch 4/50\n",
            "118/118 [==============================] - 2s 17ms/step - loss: 0.0013 - mean_squared_error: 0.0013 - val_loss: 6.6937e-04 - val_mean_squared_error: 6.6937e-04\n",
            "Epoch 5/50\n",
            "118/118 [==============================] - 2s 17ms/step - loss: 0.0015 - mean_squared_error: 0.0015 - val_loss: 2.4986e-04 - val_mean_squared_error: 2.4986e-04\n",
            "Epoch 6/50\n",
            "118/118 [==============================] - 2s 17ms/step - loss: 0.0011 - mean_squared_error: 0.0011 - val_loss: 1.4405e-04 - val_mean_squared_error: 1.4405e-04\n",
            "Epoch 7/50\n",
            "118/118 [==============================] - 2s 17ms/step - loss: 0.0011 - mean_squared_error: 0.0011 - val_loss: 9.2237e-05 - val_mean_squared_error: 9.2237e-05\n",
            "Epoch 8/50\n",
            "118/118 [==============================] - 2s 21ms/step - loss: 9.2237e-04 - mean_squared_error: 9.2237e-04 - val_loss: 5.8662e-05 - val_mean_squared_error: 5.8662e-05\n",
            "Epoch 9/50\n",
            "118/118 [==============================] - 2s 21ms/step - loss: 8.5015e-04 - mean_squared_error: 8.5015e-04 - val_loss: 4.1527e-04 - val_mean_squared_error: 4.1527e-04\n",
            "Epoch 10/50\n",
            "118/118 [==============================] - 2s 17ms/step - loss: 0.0011 - mean_squared_error: 0.0011 - val_loss: 0.0032 - val_mean_squared_error: 0.0032\n",
            "Epoch 11/50\n",
            "118/118 [==============================] - 2s 17ms/step - loss: 9.6758e-04 - mean_squared_error: 9.6758e-04 - val_loss: 1.5651e-04 - val_mean_squared_error: 1.5651e-04\n",
            "Epoch 12/50\n",
            "118/118 [==============================] - 2s 17ms/step - loss: 7.8476e-04 - mean_squared_error: 7.8476e-04 - val_loss: 4.1534e-04 - val_mean_squared_error: 4.1534e-04\n",
            "Epoch 13/50\n",
            "118/118 [==============================] - 2s 17ms/step - loss: 6.9994e-04 - mean_squared_error: 6.9994e-04 - val_loss: 1.3084e-04 - val_mean_squared_error: 1.3084e-04\n",
            "Epoch 14/50\n",
            "118/118 [==============================] - 3s 23ms/step - loss: 7.0254e-04 - mean_squared_error: 7.0254e-04 - val_loss: 9.4799e-05 - val_mean_squared_error: 9.4799e-05\n",
            "Epoch 15/50\n",
            "118/118 [==============================] - 2s 17ms/step - loss: 6.9338e-04 - mean_squared_error: 6.9338e-04 - val_loss: 6.1100e-05 - val_mean_squared_error: 6.1100e-05\n",
            "Epoch 16/50\n",
            "118/118 [==============================] - 2s 17ms/step - loss: 6.0617e-04 - mean_squared_error: 6.0617e-04 - val_loss: 2.7414e-04 - val_mean_squared_error: 2.7414e-04\n",
            "Epoch 17/50\n",
            "118/118 [==============================] - 2s 17ms/step - loss: 7.0971e-04 - mean_squared_error: 7.0971e-04 - val_loss: 0.0015 - val_mean_squared_error: 0.0015\n",
            "Epoch 18/50\n",
            "118/118 [==============================] - 2s 20ms/step - loss: 6.4876e-04 - mean_squared_error: 6.4876e-04 - val_loss: 1.5919e-04 - val_mean_squared_error: 1.5919e-04\n"
          ]
        }
      ],
      "source": [
        "# Fit LSTM model\n",
        "with strategy.scope():\n",
        "  m = build_model()\n",
        "  #train_tf = tf.data.Dataset.from_tensor_slices((X_train,y_train)).batch(32)\n",
        "  #test_tf = tf.data.Dataset.from_tensor_slices((X_test,y_test)).batch(32)\n",
        "  history = m.fit(train_tf,\n",
        "                  epochs = 50,\n",
        "                  verbose=1,\n",
        "                  callbacks = EarlyStopping(monitor='val_loss', patience=10),\n",
        "                  validation_data=test_tf,\n",
        "                  #steps_per_epoch=len(X_train) // 32,\n",
        "                  )"
      ]
    },
    {
      "cell_type": "code",
      "execution_count": null,
      "metadata": {
        "colab": {
          "base_uri": "https://localhost:8080/",
          "height": 466
        },
        "id": "5JaSoiyKijZL",
        "outputId": "c31d351d-f691-4ec7-96d2-f78bd840c0e8"
      },
      "outputs": [
        {
          "output_type": "execute_result",
          "data": {
            "text/plain": [
              "[<matplotlib.lines.Line2D at 0x78546a5018a0>]"
            ]
          },
          "metadata": {},
          "execution_count": 32
        },
        {
          "output_type": "display_data",
          "data": {
            "text/plain": [
              "<Figure size 640x480 with 1 Axes>"
            ],
            "image/png": "[encoded data removed]"
          },
          "metadata": {}
        }
      ],
      "source": [
        "plt.figure()\n",
        "plt.ylabel('val_loss'); plt.xlabel('epoch')\n",
        "plt.semilogy(history.history['val_loss'])"
      ]
    },
    {
      "cell_type": "markdown",
      "source": [
        "# Teste"
      ],
      "metadata": {
        "id": "RinF2YYcmi27"
      }
    },
    {
      "cell_type": "code",
      "execution_count": null,
      "metadata": {
        "colab": {
          "base_uri": "https://localhost:8080/"
        },
        "id": "oSdGSYz1uiox",
        "outputId": "f32aefb4-6a6f-4e4b-c44c-f3b2ed7aeb4c"
      },
      "outputs": [
        {
          "output_type": "stream",
          "name": "stdout",
          "text": [
            "30/30 [==============================] - 2s 8ms/step - loss: 1.5919e-04 - mean_squared_error: 1.5919e-04\n"
          ]
        },
        {
          "output_type": "execute_result",
          "data": {
            "text/plain": [
              "[0.00015919454745016992, 0.00015919454745016992]"
            ]
          },
          "metadata": {},
          "execution_count": 33
        }
      ],
      "source": [
        "m.evaluate(X_test, y_test)"
      ]
    },
    {
      "cell_type": "code",
      "execution_count": null,
      "metadata": {
        "colab": {
          "base_uri": "https://localhost:8080/",
          "height": 465
        },
        "id": "7FzchSOwcBiZ",
        "outputId": "4983d54d-770d-4725-d89e-5010054f426f"
      },
      "outputs": [
        {
          "output_type": "stream",
          "name": "stdout",
          "text": [
            "8/8 [==============================] - 2s 7ms/step\n"
          ]
        },
        {
          "output_type": "execute_result",
          "data": {
            "text/plain": [
              "<matplotlib.legend.Legend at 0x7eef63305480>"
            ]
          },
          "metadata": {},
          "execution_count": 31
        },
        {
          "output_type": "display_data",
          "data": {
            "text/plain": [
              "<Figure size 640x480 with 1 Axes>"
            ],
            "image/png": "[encoded data removed]"
          },
          "metadata": {}
        }
      ],
      "source": [
        "# Store \"window\" points as a sequence\n",
        "xin_1 = []\n",
        "next_y1 = []\n",
        "for i in range(window,len(yval)):\n",
        "    xin_1.append(Xval[i-window:i])\n",
        "    next_y1.append(yval[i])\n",
        "\n",
        "# Reshape data to format for LSTM\n",
        "X_val, y_val = np.array(xin_1), np.array(next_y1)\n",
        "X_val = X_val.reshape((X_val.shape[0], X_val.shape[1], X_val.shape[2]))\n",
        "\n",
        "# Predict the next value (1 step ahead)\n",
        "y_pred = m.predict(X_val)\n",
        "\n",
        "# Plot prediction vs actual for test data\n",
        "plt.figure()\n",
        "plt.plot(y_scaler.inverse_transform(y_pred),':',label='LSTM')\n",
        "plt.plot(y_scaler.inverse_transform(y_val),'--',label='Actual')\n",
        "plt.legend()"
      ]
    },
    {
      "cell_type": "code",
      "source": [
        "# prompt: salve y_pred e y_val em um arquivo dataframe\n",
        "\n",
        "import pandas as pd\n",
        "\n",
        "# Create a DataFrame with y_pred and y_val\n",
        "df_pred = pd.DataFrame({'y_pred': y_pred.flatten(), 'y_val': y_val.flatten()})\n",
        "\n",
        "# Save the DataFrame to a CSV file\n",
        "df_pred.to_csv('y_pred_y_val.csv', index=False)\n"
      ],
      "metadata": {
        "id": "Q2DEDg1L1oNa"
      },
      "execution_count": null,
      "outputs": []
    },
    {
      "cell_type": "code",
      "source": [
        "diff = 100*(y_scaler.inverse_transform(y_pred) - y_scaler.inverse_transform(y_val))/y_scaler.inverse_transform(y_val)\n",
        "import matplotlib.pyplot as plt\n",
        "# Create a new figure with two subplots\n",
        "fig, (ax1, ax2) = plt.subplots(2, 1, figsize=(12, 8))\n",
        "\n",
        "# Plot the error on the first subplot\n",
        "ax1.plot(diff, ':', label='Erro')\n",
        "ax1.set_ylabel('Erro [°C]')\n",
        "ax1.set_title('Gráfico de controle para erro de predição')\n",
        "\n",
        "# Add control limits\n",
        "mean = diff.mean()\n",
        "std = diff.std()\n",
        "li = mean - 3*std\n",
        "ls = mean + 3*std\n",
        "\n",
        "ax1.axhline(y=mean, color='g', linestyle='--', label='Média')\n",
        "ax1.axhline(y=ls, color='r', linestyle='--', label='Limite superior')\n",
        "ax1.axhline(y=li, color='r', linestyle='--', label='Limite inferior')\n",
        "ax1.legend(loc='upper right', ncols=1)\n",
        "ax1.grid(True)\n",
        "\n",
        "# Plot the actual and predicted values on the second subplot\n",
        "ax2.plot(y_scaler.inverse_transform(y_val), '-', label='Valor real')\n",
        "ax2.plot(y_scaler.inverse_transform(y_pred), '-', label='Valor predito')\n",
        "ax2.set_xlabel('Amostra')\n",
        "ax2.set_ylabel('Tmperatura [°C]')\n",
        "ax2.grid(True)\n",
        "\n",
        "# Add a legend to the second subplot\n",
        "ax2.legend(loc='upper right', ncols=2)\n",
        "\n",
        "# Show the plot\n",
        "plt.tight_layout()\n",
        "plt.show()\n",
        "print(f\"mean: {mean:.2f}, std: {std:.2f}, li: {li:.2f}, ls: {ls:.2f}\")"
      ],
      "metadata": {
        "colab": {
          "base_uri": "https://localhost:8080/",
          "height": 660
        },
        "id": "kzUu7KBdaOJQ",
        "outputId": "26868f95-489b-4b49-caa0-693801854c67"
      },
      "execution_count": null,
      "outputs": [
        {
          "output_type": "display_data",
          "data": {
            "text/plain": [
              "<Figure size 1200x800 with 2 Axes>"
            ],
            "image/png": "[encoded data removed]"
          },
          "metadata": {}
        },
        {
          "output_type": "stream",
          "name": "stdout",
          "text": [
            "mean: -0.43, std: 1.08, li: -3.66, ls: 2.79\n"
          ]
        }
      ]
    },
    {
      "cell_type": "code",
      "execution_count": null,
      "metadata": {
        "id": "GPIwqiITcQjP",
        "colab": {
          "base_uri": "https://localhost:8080/"
        },
        "outputId": "24075d48-e186-4be5-b6e2-2e5263425642"
      },
      "outputs": [
        {
          "output_type": "stream",
          "name": "stdout",
          "text": [
            "92.1% done\n"
          ]
        }
      ],
      "source": [
        "# Using predicted values to predict next step\n",
        "xin_2 =[]\n",
        "y_next_2 = []\n",
        "X_pred = Xval.copy()\n",
        "fim = len(X_pred)\n",
        "for i in range(window,len(X_pred)):\n",
        "    xin_2 = X_pred[i-window:i].reshape((1, window, X_pred.shape[1]))\n",
        "    X_pred[i,-1] = float(m.predict(xin_2, verbose=0))\n",
        "    eta = 100*i/fim\n",
        "    if int(10*eta) % 10 == 0:\n",
        "        output.clear()\n",
        "        print(f\"{eta:.1f}% done\")\n",
        "        #time.sleep(0.1)"
      ]
    },
    {
      "cell_type": "code",
      "execution_count": null,
      "metadata": {
        "colab": {
          "base_uri": "https://localhost:8080/",
          "height": 447
        },
        "outputId": "aa0f55df-1807-454f-e3f0-3d1c819c227b",
        "id": "bb7CyZREbqut"
      },
      "outputs": [
        {
          "output_type": "execute_result",
          "data": {
            "text/plain": [
              "<matplotlib.legend.Legend at 0x78546aafe260>"
            ]
          },
          "metadata": {},
          "execution_count": 37
        },
        {
          "output_type": "display_data",
          "data": {
            "text/plain": [
              "<Figure size 640x480 with 1 Axes>"
            ],
            "image/png": "[encoded data removed]"
          },
          "metadata": {}
        }
      ],
      "source": [
        "# Plot prediction vs actual for test data 10\n",
        "plt.figure()\n",
        "plt.plot(y_scaler.inverse_transform(X_pred[window:,-1].reshape(-1, 1)),':',label='LSTM_Forecast')\n",
        "plt.plot(y_scaler.inverse_transform(y_val),'--',label='Actual')\n",
        "plt.legend()"
      ]
    },
    {
      "cell_type": "code",
      "execution_count": null,
      "metadata": {
        "id": "sGK9tBea47va",
        "colab": {
          "base_uri": "https://localhost:8080/"
        },
        "outputId": "47767042-ace8-4827-8fd5-25b9a169dd6d"
      },
      "outputs": [
        {
          "output_type": "stream",
          "name": "stdout",
          "text": [
            "Model saved\n"
          ]
        },
        {
          "output_type": "stream",
          "name": "stderr",
          "text": [
            "/usr/local/lib/python3.10/dist-packages/keras/src/engine/training.py:3103: UserWarning: You are saving your model as an HDF5 file via `model.save()`. This file format is considered legacy. We recommend using instead the native Keras format, e.g. `model.save('my_model.keras')`.\n",
            "  saving_api.save_model(\n"
          ]
        }
      ],
      "source": [
        "m.save(\"model_p_n\" + \".h5\")\n",
        "dump(history, \"history_p_n.joblib\", compress=3)\n",
        "dump(X_scaler, \"X_scaler_p_n.joblib\", compress=3)\n",
        "dump(y_scaler, \"y_scaler_p_n.joblib\", compress=3)\n",
        "\n",
        "print (\"Model saved\")"
      ]
    },
    {
      "cell_type": "code",
      "execution_count": null,
      "metadata": {
        "id": "7sjbRFlv4-bT",
        "colab": {
          "base_uri": "https://localhost:8080/",
          "height": 17
        },
        "outputId": "b6b0c6c5-49e7-4f14-c0c4-b6df0e63bc63"
      },
      "outputs": [
        {
          "output_type": "display_data",
          "data": {
            "text/plain": [
              "<IPython.core.display.Javascript object>"
            ],
            "application/javascript": [
              "\n",
              "    async function download(id, filename, size) {\n",
              "      if (!google.colab.kernel.accessAllowed) {\n",
              "        return;\n",
              "      }\n",
              "      const div = document.createElement('div');\n",
              "      const label = document.createElement('label');\n",
              "      label.textContent = `Downloading \"${filename}\": `;\n",
              "      div.appendChild(label);\n",
              "      const progress = document.createElement('progress');\n",
              "      progress.max = size;\n",
              "      div.appendChild(progress);\n",
              "      document.body.appendChild(div);\n",
              "\n",
              "      const buffers = [];\n",
              "      let downloaded = 0;\n",
              "\n",
              "      const channel = await google.colab.kernel.comms.open(id);\n",
              "      // Send a message to notify the kernel that we're ready.\n",
              "      channel.send({})\n",
              "\n",
              "      for await (const message of channel.messages) {\n",
              "        // Send a message to notify the kernel that we're ready.\n",
              "        channel.send({})\n",
              "        if (message.buffers) {\n",
              "          for (const buffer of message.buffers) {\n",
              "            buffers.push(buffer);\n",
              "            downloaded += buffer.byteLength;\n",
              "            progress.value = downloaded;\n",
              "          }\n",
              "        }\n",
              "      }\n",
              "      const blob = new Blob(buffers, {type: 'application/binary'});\n",
              "      const a = document.createElement('a');\n",
              "      a.href = window.URL.createObjectURL(blob);\n",
              "      a.download = filename;\n",
              "      div.appendChild(a);\n",
              "      a.click();\n",
              "      div.remove();\n",
              "    }\n",
              "  "
            ]
          },
          "metadata": {}
        },
        {
          "output_type": "display_data",
          "data": {
            "text/plain": [
              "<IPython.core.display.Javascript object>"
            ],
            "application/javascript": [
              "download(\"download_8fc7f3c8-9056-45fd-b604-f7a842068d69\", \"model_p_n.h5\", 1308064)"
            ]
          },
          "metadata": {}
        },
        {
          "output_type": "display_data",
          "data": {
            "text/plain": [
              "<IPython.core.display.Javascript object>"
            ],
            "application/javascript": [
              "\n",
              "    async function download(id, filename, size) {\n",
              "      if (!google.colab.kernel.accessAllowed) {\n",
              "        return;\n",
              "      }\n",
              "      const div = document.createElement('div');\n",
              "      const label = document.createElement('label');\n",
              "      label.textContent = `Downloading \"${filename}\": `;\n",
              "      div.appendChild(label);\n",
              "      const progress = document.createElement('progress');\n",
              "      progress.max = size;\n",
              "      div.appendChild(progress);\n",
              "      document.body.appendChild(div);\n",
              "\n",
              "      const buffers = [];\n",
              "      let downloaded = 0;\n",
              "\n",
              "      const channel = await google.colab.kernel.comms.open(id);\n",
              "      // Send a message to notify the kernel that we're ready.\n",
              "      channel.send({})\n",
              "\n",
              "      for await (const message of channel.messages) {\n",
              "        // Send a message to notify the kernel that we're ready.\n",
              "        channel.send({})\n",
              "        if (message.buffers) {\n",
              "          for (const buffer of message.buffers) {\n",
              "            buffers.push(buffer);\n",
              "            downloaded += buffer.byteLength;\n",
              "            progress.value = downloaded;\n",
              "          }\n",
              "        }\n",
              "      }\n",
              "      const blob = new Blob(buffers, {type: 'application/binary'});\n",
              "      const a = document.createElement('a');\n",
              "      a.href = window.URL.createObjectURL(blob);\n",
              "      a.download = filename;\n",
              "      div.appendChild(a);\n",
              "      a.click();\n",
              "      div.remove();\n",
              "    }\n",
              "  "
            ]
          },
          "metadata": {}
        },
        {
          "output_type": "display_data",
          "data": {
            "text/plain": [
              "<IPython.core.display.Javascript object>"
            ],
            "application/javascript": [
              "download(\"download_f2f1a9b9-731a-4fc8-a208-063329e8c794\", \"history_p_n.joblib\", 1166874)"
            ]
          },
          "metadata": {}
        },
        {
          "output_type": "display_data",
          "data": {
            "text/plain": [
              "<IPython.core.display.Javascript object>"
            ],
            "application/javascript": [
              "\n",
              "    async function download(id, filename, size) {\n",
              "      if (!google.colab.kernel.accessAllowed) {\n",
              "        return;\n",
              "      }\n",
              "      const div = document.createElement('div');\n",
              "      const label = document.createElement('label');\n",
              "      label.textContent = `Downloading \"${filename}\": `;\n",
              "      div.appendChild(label);\n",
              "      const progress = document.createElement('progress');\n",
              "      progress.max = size;\n",
              "      div.appendChild(progress);\n",
              "      document.body.appendChild(div);\n",
              "\n",
              "      const buffers = [];\n",
              "      let downloaded = 0;\n",
              "\n",
              "      const channel = await google.colab.kernel.comms.open(id);\n",
              "      // Send a message to notify the kernel that we're ready.\n",
              "      channel.send({})\n",
              "\n",
              "      for await (const message of channel.messages) {\n",
              "        // Send a message to notify the kernel that we're ready.\n",
              "        channel.send({})\n",
              "        if (message.buffers) {\n",
              "          for (const buffer of message.buffers) {\n",
              "            buffers.push(buffer);\n",
              "            downloaded += buffer.byteLength;\n",
              "            progress.value = downloaded;\n",
              "          }\n",
              "        }\n",
              "      }\n",
              "      const blob = new Blob(buffers, {type: 'application/binary'});\n",
              "      const a = document.createElement('a');\n",
              "      a.href = window.URL.createObjectURL(blob);\n",
              "      a.download = filename;\n",
              "      div.appendChild(a);\n",
              "      a.click();\n",
              "      div.remove();\n",
              "    }\n",
              "  "
            ]
          },
          "metadata": {}
        },
        {
          "output_type": "display_data",
          "data": {
            "text/plain": [
              "<IPython.core.display.Javascript object>"
            ],
            "application/javascript": [
              "download(\"download_227a1d7b-aa25-4e39-8d01-8f2f2a397d48\", \"X_scaler_p_n.joblib\", 447)"
            ]
          },
          "metadata": {}
        },
        {
          "output_type": "display_data",
          "data": {
            "text/plain": [
              "<IPython.core.display.Javascript object>"
            ],
            "application/javascript": [
              "\n",
              "    async function download(id, filename, size) {\n",
              "      if (!google.colab.kernel.accessAllowed) {\n",
              "        return;\n",
              "      }\n",
              "      const div = document.createElement('div');\n",
              "      const label = document.createElement('label');\n",
              "      label.textContent = `Downloading \"${filename}\": `;\n",
              "      div.appendChild(label);\n",
              "      const progress = document.createElement('progress');\n",
              "      progress.max = size;\n",
              "      div.appendChild(progress);\n",
              "      document.body.appendChild(div);\n",
              "\n",
              "      const buffers = [];\n",
              "      let downloaded = 0;\n",
              "\n",
              "      const channel = await google.colab.kernel.comms.open(id);\n",
              "      // Send a message to notify the kernel that we're ready.\n",
              "      channel.send({})\n",
              "\n",
              "      for await (const message of channel.messages) {\n",
              "        // Send a message to notify the kernel that we're ready.\n",
              "        channel.send({})\n",
              "        if (message.buffers) {\n",
              "          for (const buffer of message.buffers) {\n",
              "            buffers.push(buffer);\n",
              "            downloaded += buffer.byteLength;\n",
              "            progress.value = downloaded;\n",
              "          }\n",
              "        }\n",
              "      }\n",
              "      const blob = new Blob(buffers, {type: 'application/binary'});\n",
              "      const a = document.createElement('a');\n",
              "      a.href = window.URL.createObjectURL(blob);\n",
              "      a.download = filename;\n",
              "      div.appendChild(a);\n",
              "      a.click();\n",
              "      div.remove();\n",
              "    }\n",
              "  "
            ]
          },
          "metadata": {}
        },
        {
          "output_type": "display_data",
          "data": {
            "text/plain": [
              "<IPython.core.display.Javascript object>"
            ],
            "application/javascript": [
              "download(\"download_a83005e9-6533-4730-9e5e-396e940d42c6\", \"y_scaler_p_n.joblib\", 440)"
            ]
          },
          "metadata": {}
        }
      ],
      "source": [
        "from google.colab import files\n",
        "files.download('model_p_n.h5')\n",
        "files.download('history_p_n.joblib')\n",
        "files.download('X_scaler_p_n.joblib')\n",
        "files.download('y_scaler_p_n.joblib')"
      ]
    },
    {
      "cell_type": "code",
      "execution_count": null,
      "metadata": {
        "id": "30uTsWx-tYcV",
        "colab": {
          "base_uri": "https://localhost:8080/"
        },
        "outputId": "e41788e0-42c5-4b75-9eaa-6558fd12de07"
      },
      "outputs": [
        {
          "output_type": "stream",
          "name": "stdout",
          "text": [
            "Model loaded\n"
          ]
        }
      ],
      "source": [
        "m = tf.keras.models.load_model(\n",
        "    \"model_p.h5\")\n",
        "history = load(\"history_p.joblib\")\n",
        "print (\"Model loaded\")"
      ]
    },
    {
      "cell_type": "code",
      "execution_count": null,
      "metadata": {
        "id": "uQKkzx0NxcL2"
      },
      "outputs": [],
      "source": [
        "from google.colab import runtime\n",
        "runtime.unassign()"
      ]
    }
  ],
  "metadata": {
    "colab": {
      "collapsed_sections": [
        "6sZavduwW_fS",
        "CyECaxwfZPk9"
      ],
      "provenance": [],
      "gpuType": "T4"
    },
    "kernelspec": {
      "display_name": "Python 3",
      "name": "python3"
    },
    "language_info": {
      "name": "python"
    },
    "accelerator": "GPU"
  },
  "nbformat": 4,
  "nbformat_minor": 0
}